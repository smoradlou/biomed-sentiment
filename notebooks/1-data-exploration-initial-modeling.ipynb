{
 "cells": [
  {
   "cell_type": "code",
   "execution_count": 1,
   "metadata": {},
   "outputs": [],
   "source": [
    "import numpy as np\n",
    "import pandas as pd\n",
    "import matplotlib.pyplot as plt\n",
    "import seaborn as sns"
   ]
  },
  {
   "cell_type": "code",
   "execution_count": 2,
   "metadata": {},
   "outputs": [
    {
     "data": {
      "text/html": [
       "<div>\n",
       "<style scoped>\n",
       "    .dataframe tbody tr th:only-of-type {\n",
       "        vertical-align: middle;\n",
       "    }\n",
       "\n",
       "    .dataframe tbody tr th {\n",
       "        vertical-align: top;\n",
       "    }\n",
       "\n",
       "    .dataframe thead th {\n",
       "        text-align: right;\n",
       "    }\n",
       "</style>\n",
       "<table border=\"1\" class=\"dataframe\">\n",
       "  <thead>\n",
       "    <tr style=\"text-align: right;\">\n",
       "      <th></th>\n",
       "      <th>ID</th>\n",
       "      <th>Sentence</th>\n",
       "      <th>Positive</th>\n",
       "      <th>Negative</th>\n",
       "      <th>Neutral</th>\n",
       "    </tr>\n",
       "  </thead>\n",
       "  <tbody>\n",
       "    <tr>\n",
       "      <th>0</th>\n",
       "      <td>1</td>\n",
       "      <td>The results in 2nd line treatment show an ORR ...</td>\n",
       "      <td>1</td>\n",
       "      <td>0</td>\n",
       "      <td>0</td>\n",
       "    </tr>\n",
       "    <tr>\n",
       "      <th>1</th>\n",
       "      <td>2</td>\n",
       "      <td>The long duration of response and high durable...</td>\n",
       "      <td>1</td>\n",
       "      <td>0</td>\n",
       "      <td>0</td>\n",
       "    </tr>\n",
       "    <tr>\n",
       "      <th>2</th>\n",
       "      <td>3</td>\n",
       "      <td>The median OS time in the updated results exce...</td>\n",
       "      <td>0</td>\n",
       "      <td>0</td>\n",
       "      <td>1</td>\n",
       "    </tr>\n",
       "    <tr>\n",
       "      <th>3</th>\n",
       "      <td>4</td>\n",
       "      <td>Therefore, the clinical benefit in 2nd line tr...</td>\n",
       "      <td>1</td>\n",
       "      <td>0</td>\n",
       "      <td>0</td>\n",
       "    </tr>\n",
       "    <tr>\n",
       "      <th>4</th>\n",
       "      <td>5</td>\n",
       "      <td>The data provided in 1st line, although prelim...</td>\n",
       "      <td>1</td>\n",
       "      <td>0</td>\n",
       "      <td>0</td>\n",
       "    </tr>\n",
       "    <tr>\n",
       "      <th>5</th>\n",
       "      <td>6</td>\n",
       "      <td>Taking into account the intrinsic limitation o...</td>\n",
       "      <td>1</td>\n",
       "      <td>0</td>\n",
       "      <td>0</td>\n",
       "    </tr>\n",
       "    <tr>\n",
       "      <th>6</th>\n",
       "      <td>7</td>\n",
       "      <td>This medicinal product has been authorised und...</td>\n",
       "      <td>0</td>\n",
       "      <td>0</td>\n",
       "      <td>1</td>\n",
       "    </tr>\n",
       "    <tr>\n",
       "      <th>7</th>\n",
       "      <td>8</td>\n",
       "      <td>This means that further evidence on this medic...</td>\n",
       "      <td>0</td>\n",
       "      <td>1</td>\n",
       "      <td>0</td>\n",
       "    </tr>\n",
       "    <tr>\n",
       "      <th>8</th>\n",
       "      <td>9</td>\n",
       "      <td>The European Medicines Agency will review new ...</td>\n",
       "      <td>0</td>\n",
       "      <td>0</td>\n",
       "      <td>1</td>\n",
       "    </tr>\n",
       "    <tr>\n",
       "      <th>9</th>\n",
       "      <td>10</td>\n",
       "      <td>The CHMP considers the following measures nece...</td>\n",
       "      <td>0</td>\n",
       "      <td>1</td>\n",
       "      <td>0</td>\n",
       "    </tr>\n",
       "  </tbody>\n",
       "</table>\n",
       "</div>"
      ],
      "text/plain": [
       "   ID                                           Sentence  Positive  Negative  \\\n",
       "0   1  The results in 2nd line treatment show an ORR ...         1         0   \n",
       "1   2  The long duration of response and high durable...         1         0   \n",
       "2   3  The median OS time in the updated results exce...         0         0   \n",
       "3   4  Therefore, the clinical benefit in 2nd line tr...         1         0   \n",
       "4   5  The data provided in 1st line, although prelim...         1         0   \n",
       "5   6  Taking into account the intrinsic limitation o...         1         0   \n",
       "6   7  This medicinal product has been authorised und...         0         0   \n",
       "7   8  This means that further evidence on this medic...         0         1   \n",
       "8   9  The European Medicines Agency will review new ...         0         0   \n",
       "9  10  The CHMP considers the following measures nece...         0         1   \n",
       "\n",
       "   Neutral  \n",
       "0        0  \n",
       "1        0  \n",
       "2        1  \n",
       "3        0  \n",
       "4        0  \n",
       "5        0  \n",
       "6        1  \n",
       "7        0  \n",
       "8        1  \n",
       "9        0  "
      ]
     },
     "execution_count": 2,
     "metadata": {},
     "output_type": "execute_result"
    }
   ],
   "source": [
    "df = pd.read_excel('../data/sentences_with_sentiment.xlsx')\n",
    "df.head(10)"
   ]
  },
  {
   "cell_type": "code",
   "execution_count": 3,
   "metadata": {},
   "outputs": [
    {
     "data": {
      "text/plain": [
       "266"
      ]
     },
     "execution_count": 3,
     "metadata": {},
     "output_type": "execute_result"
    }
   ],
   "source": [
    "len(df)"
   ]
  },
  {
   "cell_type": "code",
   "execution_count": 4,
   "metadata": {},
   "outputs": [
    {
     "data": {
      "text/plain": [
       "count    266.000000\n",
       "mean     161.233083\n",
       "std       77.709123\n",
       "min       39.000000\n",
       "25%      105.000000\n",
       "50%      139.500000\n",
       "75%      206.500000\n",
       "max      431.000000\n",
       "Name: Sentence, dtype: float64"
      ]
     },
     "execution_count": 4,
     "metadata": {},
     "output_type": "execute_result"
    }
   ],
   "source": [
    "df[\"Sentence\"].apply(lambda s: len(s)).describe()"
   ]
  },
  {
   "cell_type": "code",
   "execution_count": 5,
   "metadata": {},
   "outputs": [
    {
     "data": {
      "text/plain": [
       "count    266.000000\n",
       "mean      24.533835\n",
       "std       11.731942\n",
       "min        7.000000\n",
       "25%       16.000000\n",
       "50%       22.000000\n",
       "75%       30.750000\n",
       "max       63.000000\n",
       "Name: Sentence, dtype: float64"
      ]
     },
     "execution_count": 5,
     "metadata": {},
     "output_type": "execute_result"
    }
   ],
   "source": [
    "df[\"Sentence\"].apply(lambda s: len(s.split())).describe()"
   ]
  },
  {
   "cell_type": "code",
   "execution_count": 6,
   "metadata": {},
   "outputs": [],
   "source": [
    "df['Polarity'] = df['Positive'] - df['Negative'] + 1"
   ]
  },
  {
   "cell_type": "code",
   "execution_count": 7,
   "metadata": {},
   "outputs": [
    {
     "data": {
      "text/plain": [
       "Text(0, 0.5, 'Number of sentences')"
      ]
     },
     "execution_count": 7,
     "metadata": {},
     "output_type": "execute_result"
    },
    {
     "data": {
      "image/png": "[encoded data removed]",
      "text/plain": [
       "<Figure size 720x432 with 1 Axes>"
      ]
     },
     "metadata": {
      "needs_background": "light"
     },
     "output_type": "display_data"
    }
   ],
   "source": [
    "ax = df['Polarity'].value_counts().plot(kind='bar', figsize=(10, 6))\n",
    "ax.set_title('Sentiment of sentences')\n",
    "ax.set_ylabel('Number of sentences', fontsize=14)"
   ]
  },
  {
   "cell_type": "code",
   "execution_count": 8,
   "metadata": {},
   "outputs": [
    {
     "data": {
      "text/html": [
       "<table border=\"1\" class=\"dataframe\">\n",
       "  <thead>\n",
       "    <tr style=\"text-align: right;\">\n",
       "      <th></th>\n",
       "      <th>Sentence</th>\n",
       "    </tr>\n",
       "  </thead>\n",
       "  <tbody>\n",
       "    <tr>\n",
       "      <th>264</th>\n",
       "      <td>There was no general indication of VOX-associated transaminitis, as has been seen with other NS3/4A inhibitors; however, two cases associated with concomitant ethinyl estradiol among a total of 29 objects exposed, which makes co-administration quite questionable.</td>\n",
       "    </tr>\n",
       "    <tr>\n",
       "      <th>97</th>\n",
       "      <td>Although toxicity appears to be manageable with the intended combination, an onset of more frequent or severe toxicity may occur in a larger database and/or at longer term.</td>\n",
       "    </tr>\n",
       "    <tr>\n",
       "      <th>170</th>\n",
       "      <td>ACR20 results per visit showed significant differences which may be interpreted as indicating a faster onset of effect for ABP 501, which could question similarity.</td>\n",
       "    </tr>\n",
       "    <tr>\n",
       "      <th>187</th>\n",
       "      <td>the MAH should conduct and submit the results of the</td>\n",
       "    </tr>\n",
       "    <tr>\n",
       "      <th>100</th>\n",
       "      <td>The CHMP considers the following measures necessary to address issues related to safety</td>\n",
       "    </tr>\n",
       "    <tr>\n",
       "      <th>188</th>\n",
       "      <td>• PAES: In order to evaluate the long term efficacy and safety of Nusinersen in pre-symptomatic patients with spinal muscular atrophy, the MAH should conduct and submit the results of the Phase 2, open-label study (NURTURE (SM201))</td>\n",
       "    </tr>\n",
       "    <tr>\n",
       "      <th>144</th>\n",
       "      <td>Although dataset of AFL patients has been updated, data are still considered very limited to reach firm conclusion about safety proflie.</td>\n",
       "    </tr>\n",
       "    <tr>\n",
       "      <th>96</th>\n",
       "      <td>However, precaution is warranted given a small size of safety database, a limited information on long-term toxicity, and a limited data on PK/PD interactions together with indication on potential for worsening toxicity for VEGFRi -mTOR inhibitor combinations in general.</td>\n",
       "    </tr>\n",
       "    <tr>\n",
       "      <th>40</th>\n",
       "      <td>Only 3 pivotal randomized double-blind multicentre placebo controlled studies (Parsons and Mulholland 1987, Mulholland et al 1990 and Parsons et al 1993) among the 6 pivotal studies met their primary endpoint “GRA” and some secondary endpoints such as pain.</td>\n",
       "    </tr>\n",
       "    <tr>\n",
       "      <th>101</th>\n",
       "      <td>Study 307 is requested to further characterise the safety and tolerability profile of the combination therapy and further contribute to knowledge on PK and PK/PD of lenvatinib and everolimus and their PK and PD interactions.</td>\n",
       "    </tr>\n",
       "  </tbody>\n",
       "</table>"
      ],
      "text/plain": [
       "<IPython.core.display.HTML object>"
      ]
     },
     "metadata": {},
     "output_type": "display_data"
    }
   ],
   "source": [
    "from IPython.core.display import HTML\n",
    "display(HTML(df[df['Polarity'] == 0].sample(n=10, random_state=42)[['Sentence']].to_html()))"
   ]
  },
  {
   "cell_type": "code",
   "execution_count": 9,
   "metadata": {},
   "outputs": [
    {
     "name": "stdout",
     "output_type": "stream",
     "text": [
      "mean word counts:\n",
      "positive 24.1875\n",
      "neutral 24.67142857142857\n",
      "negative: 25.805555555555557\n"
     ]
    },
    {
     "data": {
      "image/png": "[encoded data removed]",
      "text/plain": [
       "<Figure size 720x288 with 3 Axes>"
      ]
     },
     "metadata": {
      "needs_background": "light"
     },
     "output_type": "display_data"
    }
   ],
   "source": [
    "# Word counts \n",
    "df['word_count'] = df['Sentence'].apply(lambda x: len(str(x).split()))\n",
    "print(\"mean word counts:\")\n",
    "print(\"positive\", df[df['Polarity']==2]['word_count'].mean()) \n",
    "print(\"neutral\", df[df['Polarity']==1]['word_count'].mean()) \n",
    "print(\"negative:\", df[df['Polarity']==0]['word_count'].mean()) \n",
    "\n",
    "# Plot word counts in different polarity groups\n",
    "fig,(ax1,ax2, ax3)=plt.subplots(1,3,figsize=(10,4))\n",
    "ax1.hist(df[df['Polarity']==2]['word_count'],color='darkred')\n",
    "ax1.set_title('Positive sentences')\n",
    "ax2.hist(df[df['Polarity']==1]['word_count'],color='darkgreen')\n",
    "ax2.set_title('Neutral sentences')\n",
    "ax3.hist(df[df['Polarity']==0]['word_count'],color='darkblue')\n",
    "ax3.set_title('Negative sentences')\n",
    "\n",
    "fig.suptitle('Words per sentence')\n",
    "plt.show()"
   ]
  },
  {
   "cell_type": "code",
   "execution_count": 10,
   "metadata": {},
   "outputs": [
    {
     "data": {
      "text/plain": [
       "<wordcloud.wordcloud.WordCloud at 0x13c2240a0>"
      ]
     },
     "execution_count": 10,
     "metadata": {},
     "output_type": "execute_result"
    },
    {
     "data": {
      "image/png": "[encoded data removed]",
      "text/plain": [
       "<Figure size 432x288 with 1 Axes>"
      ]
     },
     "metadata": {
      "needs_background": "light"
     },
     "output_type": "display_data"
    },
    {
     "data": {
      "image/png": "[encoded data removed]",
      "text/plain": [
       "<Figure size 432x288 with 1 Axes>"
      ]
     },
     "metadata": {
      "needs_background": "light"
     },
     "output_type": "display_data"
    },
    {
     "data": {
      "image/png": "[encoded data removed]",
      "text/plain": [
       "<Figure size 432x288 with 1 Axes>"
      ]
     },
     "metadata": {
      "needs_background": "light"
     },
     "output_type": "display_data"
    },
    {
     "data": {
      "text/plain": [
       "<Figure size 432x288 with 0 Axes>"
      ]
     },
     "metadata": {},
     "output_type": "display_data"
    }
   ],
   "source": [
    "from wordcloud import WordCloud\n",
    "\n",
    "def generateWordCloud(corpus: str, cmap: str) -> WordCloud:\n",
    "    \"\"\"\n",
    "    Return a Word Cloud object generated from the corpus and color map parameter.\n",
    "    \"\"\"\n",
    "    wordcloud = WordCloud(background_color = 'black', width = 800, height = 400,\n",
    "                      colormap = cmap, max_words = 180, contour_width = 3,\n",
    "                      max_font_size = 80, contour_color = 'steelblue',\n",
    "                      random_state = 0)\n",
    "\n",
    "    wordcloud.generate(corpus)\n",
    "\n",
    "    plt.imshow(wordcloud, interpolation = 'bilinear')\n",
    "    plt.axis(\"off\")\n",
    "    plt.figure()\n",
    "\n",
    "    return wordcloud\n",
    " \n",
    "# Generate the Word Clouds for each of the polarities\n",
    "pos_corpus = \" \".join(sentence for sentence in df[df['Polarity'] == 2][\"Sentence\"])\n",
    "neu_corpus = \" \".join(sentence for sentence in df[df['Polarity'] == 1][\"Sentence\"])\n",
    "neg_corpus = \" \".join(sentence for sentence in df[df['Polarity'] == 0][\"Sentence\"])\n",
    "\n",
    "generateWordCloud(corpus = pos_corpus, cmap = 'viridis').to_file('positive.png')\n",
    "generateWordCloud(corpus = neu_corpus, cmap = 'viridis').to_file('neutral.png')\n",
    "generateWordCloud(corpus = neg_corpus, cmap = 'viridis').to_file('negative.png')\n"
   ]
  },
  {
   "cell_type": "code",
   "execution_count": 12,
   "metadata": {},
   "outputs": [
    {
     "name": "stderr",
     "output_type": "stream",
     "text": [
      "[nltk_data] Downloading package punkt to /Users/shm/nltk_data...\n",
      "[nltk_data]   Package punkt is already up-to-date!\n",
      "[nltk_data] Downloading package averaged_perceptron_tagger to\n",
      "[nltk_data]     /Users/shm/nltk_data...\n",
      "[nltk_data]   Package averaged_perceptron_tagger is already up-to-\n",
      "[nltk_data]       date!\n",
      "[nltk_data] Downloading package wordnet to /Users/shm/nltk_data...\n",
      "[nltk_data]   Package wordnet is already up-to-date!\n",
      "[nltk_data] Downloading package stopwords to /Users/shm/nltk_data...\n",
      "[nltk_data]   Package stopwords is already up-to-date!\n"
     ]
    }
   ],
   "source": [
    "# Lets try some simple classifiers \n",
    "# Text pre-processing\n",
    "import re, string\n",
    "from nltk import pos_tag\n",
    "from nltk.tokenize import word_tokenize\n",
    "from nltk.corpus import stopwords\n",
    "from nltk.tokenize import word_tokenize\n",
    "from nltk.stem import SnowballStemmer\n",
    "from nltk.corpus import wordnet\n",
    "from nltk.stem import WordNetLemmatizer\n",
    "import nltk\n",
    "nltk.download('punkt')\n",
    "nltk.download('averaged_perceptron_tagger')\n",
    "nltk.download('wordnet')\n",
    "nltk.download('stopwords')\n",
    "\n",
    "# Models\n",
    "from sklearn.model_selection import train_test_split\n",
    "from sklearn.linear_model import LogisticRegression\n",
    "from sklearn.naive_bayes import MultinomialNB\n",
    "from sklearn.metrics import classification_report, f1_score, accuracy_score, confusion_matrix\n",
    "from sklearn.metrics import roc_curve, auc, roc_auc_score\n",
    "\n",
    "# Bag of words\n",
    "from sklearn.feature_extraction.text import TfidfVectorizer\n",
    "from sklearn.feature_extraction.text import CountVectorizer\n",
    "\n",
    "# Word embedding\n",
    "import gensim\n",
    "from gensim.models import Word2Vec, KeyedVectors "
   ]
  },
  {
   "cell_type": "markdown",
   "metadata": {},
   "source": [
    "### Baseline Classifier\n",
    "Befor we do anything it is always a good idea to establish a baseline. An obvious baseline model is a majority class classifier, which in case would always predict positive sentiment, leading to accuracy of:\n"
   ]
  },
  {
   "cell_type": "code",
   "execution_count": 14,
   "metadata": {},
   "outputs": [
    {
     "data": {
      "text/plain": [
       "0.6015037593984962"
      ]
     },
     "execution_count": 14,
     "metadata": {},
     "output_type": "execute_result"
    }
   ],
   "source": [
    "len(df[df[\"Polarity\"]==2])/len(df)"
   ]
  },
  {
   "cell_type": "markdown",
   "metadata": {},
   "source": [
    "### Prepare dataset"
   ]
  },
  {
   "cell_type": "code",
   "execution_count": 15,
   "metadata": {},
   "outputs": [],
   "source": [
    "wordnet_lemmatizer = WordNetLemmatizer()"
   ]
  },
  {
   "cell_type": "code",
   "execution_count": 16,
   "metadata": {},
   "outputs": [],
   "source": [
    "def lemmatize(text):\n",
    "    processed_list = [wordnet_lemmatizer.lemmatize(i,j[0].lower()) \\\n",
    "     if j[0].lower() in ['a','n','v'] else wordnet_lemmatizer.lemmatize(i) for i,j in pos_tag(word_tokenize(text))]\n",
    "    return ' '.join(processed_list)"
   ]
  },
  {
   "cell_type": "code",
   "execution_count": 17,
   "metadata": {},
   "outputs": [
    {
     "data": {
      "text/plain": [
       "'this be an interesting test'"
      ]
     },
     "execution_count": 17,
     "metadata": {},
     "output_type": "execute_result"
    }
   ],
   "source": [
    "lemmatize(\"this is an interesting test\")"
   ]
  },
  {
   "cell_type": "code",
   "execution_count": 18,
   "metadata": {},
   "outputs": [
    {
     "name": "stdout",
     "output_type": "stream",
     "text": [
      "['i', 'me', 'my', 'myself', 'we', 'our', 'ours', 'ourselves', 'you', \"you're\", \"you've\", \"you'll\", \"you'd\", 'your', 'yours', 'yourself', 'yourselves', 'he', 'him', 'his', 'himself', 'she', \"she's\", 'her', 'hers', 'herself', 'it', \"it's\", 'its', 'itself', 'they', 'them', 'their', 'theirs', 'themselves', 'what', 'which', 'who', 'whom', 'this', 'that', \"that'll\", 'these', 'those', 'am', 'is', 'are', 'was', 'were', 'be']\n"
     ]
    }
   ],
   "source": [
    "print(stopwords.words('english')[:50])"
   ]
  },
  {
   "cell_type": "code",
   "execution_count": 19,
   "metadata": {},
   "outputs": [
    {
     "name": "stdout",
     "output_type": "stream",
     "text": [
      "{'can', 'not', 'will', 'should'}\n"
     ]
    }
   ],
   "source": [
    "stopword_set = set(stopwords.words('english'))\n",
    "modals_set = {'can', 'could', 'may', 'might', 'must', 'will', 'would', 'should', 'not'}\n",
    "\n",
    "print(modals_set.intersection(stopword_set))\n",
    "# for this application we do not want to remove modals as they might carry polarity signals\n",
    "stopword_set.difference_update(modals_set)\n"
   ]
  },
  {
   "cell_type": "code",
   "execution_count": 20,
   "metadata": {},
   "outputs": [],
   "source": [
    "from typing import Set\n",
    "def remove_stopwords(text:str, stopwords:Set) -> str:\n",
    "    processed_list = [word for word in text.split() if word not in stopwords] \n",
    "    return ' '.join(processed_list)"
   ]
  },
  {
   "cell_type": "code",
   "execution_count": 21,
   "metadata": {},
   "outputs": [],
   "source": [
    "df[\"Sentence_swf\"] = df[\"Sentence\"].apply(lambda s: remove_stopwords(str.lower(s), stopword_set))"
   ]
  },
  {
   "cell_type": "code",
   "execution_count": 22,
   "metadata": {},
   "outputs": [
    {
     "data": {
      "text/html": [
       "<div>\n",
       "<style scoped>\n",
       "    .dataframe tbody tr th:only-of-type {\n",
       "        vertical-align: middle;\n",
       "    }\n",
       "\n",
       "    .dataframe tbody tr th {\n",
       "        vertical-align: top;\n",
       "    }\n",
       "\n",
       "    .dataframe thead th {\n",
       "        text-align: right;\n",
       "    }\n",
       "</style>\n",
       "<table border=\"1\" class=\"dataframe\">\n",
       "  <thead>\n",
       "    <tr style=\"text-align: right;\">\n",
       "      <th></th>\n",
       "      <th>ID</th>\n",
       "      <th>Sentence</th>\n",
       "      <th>Positive</th>\n",
       "      <th>Negative</th>\n",
       "      <th>Neutral</th>\n",
       "      <th>Polarity</th>\n",
       "      <th>word_count</th>\n",
       "      <th>Sentence_swf</th>\n",
       "    </tr>\n",
       "  </thead>\n",
       "  <tbody>\n",
       "    <tr>\n",
       "      <th>0</th>\n",
       "      <td>1</td>\n",
       "      <td>The results in 2nd line treatment show an ORR ...</td>\n",
       "      <td>1</td>\n",
       "      <td>0</td>\n",
       "      <td>0</td>\n",
       "      <td>2</td>\n",
       "      <td>23</td>\n",
       "      <td>results 2nd line treatment show orr 33% patien...</td>\n",
       "    </tr>\n",
       "    <tr>\n",
       "      <th>1</th>\n",
       "      <td>2</td>\n",
       "      <td>The long duration of response and high durable...</td>\n",
       "      <td>1</td>\n",
       "      <td>0</td>\n",
       "      <td>0</td>\n",
       "      <td>2</td>\n",
       "      <td>24</td>\n",
       "      <td>long duration response high durable response r...</td>\n",
       "    </tr>\n",
       "    <tr>\n",
       "      <th>2</th>\n",
       "      <td>3</td>\n",
       "      <td>The median OS time in the updated results exce...</td>\n",
       "      <td>0</td>\n",
       "      <td>0</td>\n",
       "      <td>1</td>\n",
       "      <td>1</td>\n",
       "      <td>11</td>\n",
       "      <td>median os time updated results exceeded 1 year</td>\n",
       "    </tr>\n",
       "    <tr>\n",
       "      <th>3</th>\n",
       "      <td>4</td>\n",
       "      <td>Therefore, the clinical benefit in 2nd line tr...</td>\n",
       "      <td>1</td>\n",
       "      <td>0</td>\n",
       "      <td>0</td>\n",
       "      <td>2</td>\n",
       "      <td>23</td>\n",
       "      <td>therefore, clinical benefit 2nd line treatment...</td>\n",
       "    </tr>\n",
       "    <tr>\n",
       "      <th>4</th>\n",
       "      <td>5</td>\n",
       "      <td>The data provided in 1st line, although prelim...</td>\n",
       "      <td>1</td>\n",
       "      <td>0</td>\n",
       "      <td>0</td>\n",
       "      <td>2</td>\n",
       "      <td>41</td>\n",
       "      <td>data provided 1st line, although preliminary, ...</td>\n",
       "    </tr>\n",
       "  </tbody>\n",
       "</table>\n",
       "</div>"
      ],
      "text/plain": [
       "   ID                                           Sentence  Positive  Negative  \\\n",
       "0   1  The results in 2nd line treatment show an ORR ...         1         0   \n",
       "1   2  The long duration of response and high durable...         1         0   \n",
       "2   3  The median OS time in the updated results exce...         0         0   \n",
       "3   4  Therefore, the clinical benefit in 2nd line tr...         1         0   \n",
       "4   5  The data provided in 1st line, although prelim...         1         0   \n",
       "\n",
       "   Neutral  Polarity  word_count  \\\n",
       "0        0         2          23   \n",
       "1        0         2          24   \n",
       "2        1         1          11   \n",
       "3        0         2          23   \n",
       "4        0         2          41   \n",
       "\n",
       "                                        Sentence_swf  \n",
       "0  results 2nd line treatment show orr 33% patien...  \n",
       "1  long duration response high durable response r...  \n",
       "2     median os time updated results exceeded 1 year  \n",
       "3  therefore, clinical benefit 2nd line treatment...  \n",
       "4  data provided 1st line, although preliminary, ...  "
      ]
     },
     "execution_count": 22,
     "metadata": {},
     "output_type": "execute_result"
    }
   ],
   "source": [
    "df.head()"
   ]
  },
  {
   "cell_type": "code",
   "execution_count": 23,
   "metadata": {},
   "outputs": [],
   "source": [
    "df[\"Sentence_swf_lemma\"] = df[\"Sentence_swf\"].apply(lambda s: lemmatize(s))"
   ]
  },
  {
   "cell_type": "code",
   "execution_count": 24,
   "metadata": {},
   "outputs": [
    {
     "data": {
      "text/html": [
       "<div>\n",
       "<style scoped>\n",
       "    .dataframe tbody tr th:only-of-type {\n",
       "        vertical-align: middle;\n",
       "    }\n",
       "\n",
       "    .dataframe tbody tr th {\n",
       "        vertical-align: top;\n",
       "    }\n",
       "\n",
       "    .dataframe thead th {\n",
       "        text-align: right;\n",
       "    }\n",
       "</style>\n",
       "<table border=\"1\" class=\"dataframe\">\n",
       "  <thead>\n",
       "    <tr style=\"text-align: right;\">\n",
       "      <th></th>\n",
       "      <th>ID</th>\n",
       "      <th>Sentence</th>\n",
       "      <th>Positive</th>\n",
       "      <th>Negative</th>\n",
       "      <th>Neutral</th>\n",
       "      <th>Polarity</th>\n",
       "      <th>word_count</th>\n",
       "      <th>Sentence_swf</th>\n",
       "      <th>Sentence_swf_lemma</th>\n",
       "    </tr>\n",
       "  </thead>\n",
       "  <tbody>\n",
       "    <tr>\n",
       "      <th>0</th>\n",
       "      <td>1</td>\n",
       "      <td>The results in 2nd line treatment show an ORR ...</td>\n",
       "      <td>1</td>\n",
       "      <td>0</td>\n",
       "      <td>0</td>\n",
       "      <td>2</td>\n",
       "      <td>23</td>\n",
       "      <td>results 2nd line treatment show orr 33% patien...</td>\n",
       "      <td>result 2nd line treatment show orr 33 % patien...</td>\n",
       "    </tr>\n",
       "    <tr>\n",
       "      <th>1</th>\n",
       "      <td>2</td>\n",
       "      <td>The long duration of response and high durable...</td>\n",
       "      <td>1</td>\n",
       "      <td>0</td>\n",
       "      <td>0</td>\n",
       "      <td>2</td>\n",
       "      <td>24</td>\n",
       "      <td>long duration response high durable response r...</td>\n",
       "      <td>long duration response high durable response r...</td>\n",
       "    </tr>\n",
       "    <tr>\n",
       "      <th>2</th>\n",
       "      <td>3</td>\n",
       "      <td>The median OS time in the updated results exce...</td>\n",
       "      <td>0</td>\n",
       "      <td>0</td>\n",
       "      <td>1</td>\n",
       "      <td>1</td>\n",
       "      <td>11</td>\n",
       "      <td>median os time updated results exceeded 1 year</td>\n",
       "      <td>median o time updated result exceed 1 year</td>\n",
       "    </tr>\n",
       "    <tr>\n",
       "      <th>3</th>\n",
       "      <td>4</td>\n",
       "      <td>Therefore, the clinical benefit in 2nd line tr...</td>\n",
       "      <td>1</td>\n",
       "      <td>0</td>\n",
       "      <td>0</td>\n",
       "      <td>2</td>\n",
       "      <td>23</td>\n",
       "      <td>therefore, clinical benefit 2nd line treatment...</td>\n",
       "      <td>therefore , clinical benefit 2nd line treatmen...</td>\n",
       "    </tr>\n",
       "    <tr>\n",
       "      <th>4</th>\n",
       "      <td>5</td>\n",
       "      <td>The data provided in 1st line, although prelim...</td>\n",
       "      <td>1</td>\n",
       "      <td>0</td>\n",
       "      <td>0</td>\n",
       "      <td>2</td>\n",
       "      <td>41</td>\n",
       "      <td>data provided 1st line, although preliminary, ...</td>\n",
       "      <td>data provide 1st line , although preliminary ,...</td>\n",
       "    </tr>\n",
       "  </tbody>\n",
       "</table>\n",
       "</div>"
      ],
      "text/plain": [
       "   ID                                           Sentence  Positive  Negative  \\\n",
       "0   1  The results in 2nd line treatment show an ORR ...         1         0   \n",
       "1   2  The long duration of response and high durable...         1         0   \n",
       "2   3  The median OS time in the updated results exce...         0         0   \n",
       "3   4  Therefore, the clinical benefit in 2nd line tr...         1         0   \n",
       "4   5  The data provided in 1st line, although prelim...         1         0   \n",
       "\n",
       "   Neutral  Polarity  word_count  \\\n",
       "0        0         2          23   \n",
       "1        0         2          24   \n",
       "2        1         1          11   \n",
       "3        0         2          23   \n",
       "4        0         2          41   \n",
       "\n",
       "                                        Sentence_swf  \\\n",
       "0  results 2nd line treatment show orr 33% patien...   \n",
       "1  long duration response high durable response r...   \n",
       "2     median os time updated results exceeded 1 year   \n",
       "3  therefore, clinical benefit 2nd line treatment...   \n",
       "4  data provided 1st line, although preliminary, ...   \n",
       "\n",
       "                                  Sentence_swf_lemma  \n",
       "0  result 2nd line treatment show orr 33 % patien...  \n",
       "1  long duration response high durable response r...  \n",
       "2         median o time updated result exceed 1 year  \n",
       "3  therefore , clinical benefit 2nd line treatmen...  \n",
       "4  data provide 1st line , although preliminary ,...  "
      ]
     },
     "execution_count": 24,
     "metadata": {},
     "output_type": "execute_result"
    }
   ],
   "source": [
    "df.head()"
   ]
  },
  {
   "cell_type": "code",
   "execution_count": 26,
   "metadata": {},
   "outputs": [],
   "source": [
    "global stopword_set \n",
    "stopword_set = set(stopwords.words('english'))\n",
    "modals_set = {'can', 'could', 'may', 'might', 'must', 'will', 'would', 'should', 'not'}\n",
    "# for this application we do not want to remove modals as they might carry polarity signals\n",
    "stopword_set.difference_update(modals_set)\n",
    "\n",
    "\n",
    "def text_preprocessing(s):\n",
    "    \"\"\"\n",
    "    - Lowercase the sentence\n",
    "    - Change \"'t\" to \"not\"\n",
    "    - Isolate and remove punctuations except \"?\"\n",
    "    - Remove other special characters\n",
    "    - Remove stop words except the modals and not\n",
    "    - Remove trailing whitespace\n",
    "    \"\"\"\n",
    "    s = s.lower()\n",
    "    # Change 't to 'not'\n",
    "    s = re.sub(r\"\\'t\", \" not\", s)\n",
    "    # Isolate and remove punctuations except '?'\n",
    "    s = re.sub(r'([\\'\\\"\\.\\(\\)\\!\\?\\\\\\/\\,])', r' \\1 ', s)\n",
    "    s = re.sub(r'[^\\w\\s\\?]', ' ', s)\n",
    "    # Remove some special characters\n",
    "    s = re.sub(r'([\\;\\:\\|•«\\n])', ' ', s)\n",
    "    # Remove stopwords except 'not' and 'can'\n",
    "    s = remove_stopwords(s, stopword_set)\n",
    "    # Remove trailing whitespace\n",
    "    s = re.sub(r'\\s+', ' ', s).strip()\n",
    "    # Uncomment to lemmatize as well\n",
    "#     s = lemmatize(s) \n",
    "    \n",
    "    return s"
   ]
  },
  {
   "cell_type": "code",
   "execution_count": 27,
   "metadata": {},
   "outputs": [],
   "source": [
    "df[\"Sentence_swf\"] = df[\"Sentence\"].apply(lambda s: text_preprocessing(str.lower(s)))"
   ]
  },
  {
   "cell_type": "code",
   "execution_count": 28,
   "metadata": {},
   "outputs": [
    {
     "data": {
      "text/html": [
       "<div>\n",
       "<style scoped>\n",
       "    .dataframe tbody tr th:only-of-type {\n",
       "        vertical-align: middle;\n",
       "    }\n",
       "\n",
       "    .dataframe tbody tr th {\n",
       "        vertical-align: top;\n",
       "    }\n",
       "\n",
       "    .dataframe thead th {\n",
       "        text-align: right;\n",
       "    }\n",
       "</style>\n",
       "<table border=\"1\" class=\"dataframe\">\n",
       "  <thead>\n",
       "    <tr style=\"text-align: right;\">\n",
       "      <th></th>\n",
       "      <th>ID</th>\n",
       "      <th>Sentence</th>\n",
       "      <th>Positive</th>\n",
       "      <th>Negative</th>\n",
       "      <th>Neutral</th>\n",
       "      <th>Polarity</th>\n",
       "      <th>word_count</th>\n",
       "      <th>Sentence_swf</th>\n",
       "      <th>Sentence_swf_lemma</th>\n",
       "    </tr>\n",
       "  </thead>\n",
       "  <tbody>\n",
       "    <tr>\n",
       "      <th>0</th>\n",
       "      <td>1</td>\n",
       "      <td>The results in 2nd line treatment show an ORR ...</td>\n",
       "      <td>1</td>\n",
       "      <td>0</td>\n",
       "      <td>0</td>\n",
       "      <td>2</td>\n",
       "      <td>23</td>\n",
       "      <td>results 2nd line treatment show orr 33 patient...</td>\n",
       "      <td>result 2nd line treatment show orr 33 % patien...</td>\n",
       "    </tr>\n",
       "    <tr>\n",
       "      <th>1</th>\n",
       "      <td>2</td>\n",
       "      <td>The long duration of response and high durable...</td>\n",
       "      <td>1</td>\n",
       "      <td>0</td>\n",
       "      <td>0</td>\n",
       "      <td>2</td>\n",
       "      <td>24</td>\n",
       "      <td>long duration response high durable response r...</td>\n",
       "      <td>long duration response high durable response r...</td>\n",
       "    </tr>\n",
       "    <tr>\n",
       "      <th>2</th>\n",
       "      <td>3</td>\n",
       "      <td>The median OS time in the updated results exce...</td>\n",
       "      <td>0</td>\n",
       "      <td>0</td>\n",
       "      <td>1</td>\n",
       "      <td>1</td>\n",
       "      <td>11</td>\n",
       "      <td>median os time updated results exceeded 1 year</td>\n",
       "      <td>median o time updated result exceed 1 year</td>\n",
       "    </tr>\n",
       "    <tr>\n",
       "      <th>3</th>\n",
       "      <td>4</td>\n",
       "      <td>Therefore, the clinical benefit in 2nd line tr...</td>\n",
       "      <td>1</td>\n",
       "      <td>0</td>\n",
       "      <td>0</td>\n",
       "      <td>2</td>\n",
       "      <td>23</td>\n",
       "      <td>therefore clinical benefit 2nd line treatment ...</td>\n",
       "      <td>therefore , clinical benefit 2nd line treatmen...</td>\n",
       "    </tr>\n",
       "    <tr>\n",
       "      <th>4</th>\n",
       "      <td>5</td>\n",
       "      <td>The data provided in 1st line, although prelim...</td>\n",
       "      <td>1</td>\n",
       "      <td>0</td>\n",
       "      <td>0</td>\n",
       "      <td>2</td>\n",
       "      <td>41</td>\n",
       "      <td>data provided 1st line although preliminary sh...</td>\n",
       "      <td>data provide 1st line , although preliminary ,...</td>\n",
       "    </tr>\n",
       "    <tr>\n",
       "      <th>...</th>\n",
       "      <td>...</td>\n",
       "      <td>...</td>\n",
       "      <td>...</td>\n",
       "      <td>...</td>\n",
       "      <td>...</td>\n",
       "      <td>...</td>\n",
       "      <td>...</td>\n",
       "      <td>...</td>\n",
       "      <td>...</td>\n",
       "    </tr>\n",
       "    <tr>\n",
       "      <th>261</th>\n",
       "      <td>262</td>\n",
       "      <td>Compared to SOF/VEL and placebo, there were si...</td>\n",
       "      <td>1</td>\n",
       "      <td>0</td>\n",
       "      <td>0</td>\n",
       "      <td>2</td>\n",
       "      <td>27</td>\n",
       "      <td>compared sof vel placebo similar rates aes ove...</td>\n",
       "      <td>compare sof/vel placebo , similar rate aes ove...</td>\n",
       "    </tr>\n",
       "    <tr>\n",
       "      <th>262</th>\n",
       "      <td>263</td>\n",
       "      <td>Other potentially related AE’s including decre...</td>\n",
       "      <td>0</td>\n",
       "      <td>0</td>\n",
       "      <td>1</td>\n",
       "      <td>1</td>\n",
       "      <td>12</td>\n",
       "      <td>potentially related ae including decreased app...</td>\n",
       "      <td>potentially related ae ’ s include decrease ap...</td>\n",
       "    </tr>\n",
       "    <tr>\n",
       "      <th>263</th>\n",
       "      <td>264</td>\n",
       "      <td>No treatment-related SAE was reported and only...</td>\n",
       "      <td>1</td>\n",
       "      <td>0</td>\n",
       "      <td>0</td>\n",
       "      <td>2</td>\n",
       "      <td>26</td>\n",
       "      <td>treatment related sae reported one subject 0 1...</td>\n",
       "      <td>treatment-related sae report one subject ( 0.1...</td>\n",
       "    </tr>\n",
       "    <tr>\n",
       "      <th>264</th>\n",
       "      <td>265</td>\n",
       "      <td>There was no general indication of VOX-associa...</td>\n",
       "      <td>0</td>\n",
       "      <td>1</td>\n",
       "      <td>0</td>\n",
       "      <td>0</td>\n",
       "      <td>36</td>\n",
       "      <td>general indication vox associated transaminiti...</td>\n",
       "      <td>general indication vox-associated transaminiti...</td>\n",
       "    </tr>\n",
       "    <tr>\n",
       "      <th>265</th>\n",
       "      <td>266</td>\n",
       "      <td>The safety profile of SOF/VEL/VOX for 8 or 12 ...</td>\n",
       "      <td>1</td>\n",
       "      <td>0</td>\n",
       "      <td>0</td>\n",
       "      <td>2</td>\n",
       "      <td>22</td>\n",
       "      <td>safety profile sof vel vox 8 12 weeks patients...</td>\n",
       "      <td>safety profile sof/vel/vox 8 12 week patient c...</td>\n",
       "    </tr>\n",
       "  </tbody>\n",
       "</table>\n",
       "<p>266 rows × 9 columns</p>\n",
       "</div>"
      ],
      "text/plain": [
       "      ID                                           Sentence  Positive  \\\n",
       "0      1  The results in 2nd line treatment show an ORR ...         1   \n",
       "1      2  The long duration of response and high durable...         1   \n",
       "2      3  The median OS time in the updated results exce...         0   \n",
       "3      4  Therefore, the clinical benefit in 2nd line tr...         1   \n",
       "4      5  The data provided in 1st line, although prelim...         1   \n",
       "..   ...                                                ...       ...   \n",
       "261  262  Compared to SOF/VEL and placebo, there were si...         1   \n",
       "262  263  Other potentially related AE’s including decre...         0   \n",
       "263  264  No treatment-related SAE was reported and only...         1   \n",
       "264  265  There was no general indication of VOX-associa...         0   \n",
       "265  266  The safety profile of SOF/VEL/VOX for 8 or 12 ...         1   \n",
       "\n",
       "     Negative  Neutral  Polarity  word_count  \\\n",
       "0           0        0         2          23   \n",
       "1           0        0         2          24   \n",
       "2           0        1         1          11   \n",
       "3           0        0         2          23   \n",
       "4           0        0         2          41   \n",
       "..        ...      ...       ...         ...   \n",
       "261         0        0         2          27   \n",
       "262         0        1         1          12   \n",
       "263         0        0         2          26   \n",
       "264         1        0         0          36   \n",
       "265         0        0         2          22   \n",
       "\n",
       "                                          Sentence_swf  \\\n",
       "0    results 2nd line treatment show orr 33 patient...   \n",
       "1    long duration response high durable response r...   \n",
       "2       median os time updated results exceeded 1 year   \n",
       "3    therefore clinical benefit 2nd line treatment ...   \n",
       "4    data provided 1st line although preliminary sh...   \n",
       "..                                                 ...   \n",
       "261  compared sof vel placebo similar rates aes ove...   \n",
       "262  potentially related ae including decreased app...   \n",
       "263  treatment related sae reported one subject 0 1...   \n",
       "264  general indication vox associated transaminiti...   \n",
       "265  safety profile sof vel vox 8 12 weeks patients...   \n",
       "\n",
       "                                    Sentence_swf_lemma  \n",
       "0    result 2nd line treatment show orr 33 % patien...  \n",
       "1    long duration response high durable response r...  \n",
       "2           median o time updated result exceed 1 year  \n",
       "3    therefore , clinical benefit 2nd line treatmen...  \n",
       "4    data provide 1st line , although preliminary ,...  \n",
       "..                                                 ...  \n",
       "261  compare sof/vel placebo , similar rate aes ove...  \n",
       "262  potentially related ae ’ s include decrease ap...  \n",
       "263  treatment-related sae report one subject ( 0.1...  \n",
       "264  general indication vox-associated transaminiti...  \n",
       "265  safety profile sof/vel/vox 8 12 week patient c...  \n",
       "\n",
       "[266 rows x 9 columns]"
      ]
     },
     "execution_count": 28,
     "metadata": {},
     "output_type": "execute_result"
    }
   ],
   "source": [
    "df"
   ]
  },
  {
   "cell_type": "markdown",
   "metadata": {},
   "source": [
    "To start with we just go with a stratified train test split, for a more realistic evaluation we will use k-fold cross-validation later on"
   ]
  },
  {
   "cell_type": "code",
   "execution_count": 29,
   "metadata": {},
   "outputs": [],
   "source": [
    "from sklearn.model_selection import train_test_split\n",
    "X = df[\"Sentence_swf\"]\n",
    "y = df[\"Polarity\"]\n",
    "X_train, X_val, y_train, y_val = train_test_split(X, y, test_size=0.3, random_state=42, stratify=y)"
   ]
  },
  {
   "cell_type": "markdown",
   "metadata": {},
   "source": [
    "Lets turn text to vectors: count vectorizer"
   ]
  },
  {
   "cell_type": "code",
   "execution_count": 32,
   "metadata": {
    "scrolled": true
   },
   "outputs": [
    {
     "name": "stdout",
     "output_type": "stream",
     "text": [
      "(186, 1000)\n",
      "(80, 1000)\n"
     ]
    }
   ],
   "source": [
    "# Convert X_train to vectors\n",
    "# Parameter election\n",
    "ngram_range = (1,2)\n",
    "# min_df = 10\n",
    "# max_df = 1.\n",
    "max_features = 1000\n",
    "count_vectorizer = CountVectorizer(ngram_range=ngram_range, max_features=max_features)\n",
    "X_train_cv = count_vectorizer.fit_transform(X_train)\n",
    "# Only transform X_val \n",
    "X_val_cv = count_vectorizer.transform(X_val) \n",
    "\n",
    "print(X_train_cv.shape)\n",
    "print(X_val_cv.shape)"
   ]
  },
  {
   "cell_type": "code",
   "execution_count": 43,
   "metadata": {},
   "outputs": [
    {
     "name": "stdout",
     "output_type": "stream",
     "text": [
      "(186, 1000)\n",
      "(80, 1000)\n"
     ]
    }
   ],
   "source": [
    "ngram_range = (1,3)\n",
    "# min_df = 10\n",
    "# max_df = 1.\n",
    "max_features = 1000\n",
    "binary=True\n",
    "smooth_idf=False\n",
    "tfidf_vectorizer = TfidfVectorizer(ngram_range=ngram_range, binary=binary, smooth_idf=smooth_idf, max_features=max_features)\n",
    "X_train_tfidf = tfidf_vectorizer.fit_transform(X_train)\n",
    "\n",
    "# Only transform X_val \n",
    "X_val_tfidf = tfidf_vectorizer.transform(X_val)\n",
    "\n",
    "\n",
    "print(X_train_tfidf.shape)\n",
    "print(X_val_tfidf.shape)"
   ]
  },
  {
   "cell_type": "markdown",
   "metadata": {},
   "source": [
    "### Build classifiers"
   ]
  },
  {
   "cell_type": "code",
   "execution_count": 39,
   "metadata": {},
   "outputs": [
    {
     "name": "stdout",
     "output_type": "stream",
     "text": [
      "  (0, 567)\t0.13914692592902336\n",
      "  (0, 288)\t0.13914692592902336\n",
      "  (0, 23)\t0.1474185387977748\n",
      "  (0, 430)\t0.1474185387977748\n",
      "  (0, 597)\t0.1474185387977748\n",
      "  (0, 485)\t0.1474185387977748\n",
      "  (0, 283)\t0.1474185387977748\n",
      "  (0, 293)\t0.1474185387977748\n",
      "  (0, 348)\t0.1474185387977748\n",
      "  (0, 126)\t0.1474185387977748\n",
      "  (0, 33)\t0.1474185387977748\n",
      "  (0, 346)\t0.1474185387977748\n",
      "  (0, 125)\t0.1474185387977748\n",
      "  (0, 435)\t0.1474185387977748\n",
      "  (0, 351)\t0.1474185387977748\n",
      "  (0, 128)\t0.1474185387977748\n",
      "  (0, 536)\t0.1474185387977748\n",
      "  (0, 194)\t0.1474185387977748\n",
      "  (0, 399)\t0.1474185387977748\n",
      "  (0, 492)\t0.11280116811139523\n",
      "  (0, 566)\t0.13914692592902336\n",
      "  (0, 287)\t0.11280116811139523\n",
      "  (0, 22)\t0.1474185387977748\n",
      "  (0, 429)\t0.1474185387977748\n",
      "  (0, 596)\t0.1474185387977748\n",
      "  :\t:\n",
      "  (184, 237)\t0.38685096350890386\n",
      "  (184, 105)\t0.2816827164932061\n",
      "  (184, 496)\t0.3584999925168779\n",
      "  (184, 577)\t0.33838465847725796\n",
      "  (184, 412)\t0.3227819932321904\n",
      "  (184, 584)\t0.2743156882005446\n",
      "  (184, 558)\t0.23721304767099285\n",
      "  (184, 491)\t0.15903801834661416\n",
      "  (185, 134)\t0.30773322748159465\n",
      "  (185, 47)\t0.2568779766467932\n",
      "  (185, 58)\t0.29046640239068144\n",
      "  (185, 57)\t0.29046640239068144\n",
      "  (185, 56)\t0.2488633541819882\n",
      "  (185, 562)\t0.29046640239068144\n",
      "  (185, 573)\t0.2568779766467932\n",
      "  (185, 127)\t0.2568779766467932\n",
      "  (185, 349)\t0.2568779766467932\n",
      "  (185, 294)\t0.24179395615512142\n",
      "  (185, 115)\t0.18547853267521736\n",
      "  (185, 492)\t0.23547016413065652\n",
      "  (185, 124)\t0.21527492843809995\n",
      "  (185, 133)\t0.14258467103225322\n",
      "  (185, 491)\t0.1365168304034944\n",
      "  (185, 344)\t0.21527492843809995\n",
      "  (185, 123)\t0.21527492843809995\n"
     ]
    }
   ],
   "source": [
    "print(X_train_tfidf)"
   ]
  },
  {
   "cell_type": "code",
   "execution_count": 44,
   "metadata": {},
   "outputs": [
    {
     "name": "stdout",
     "output_type": "stream",
     "text": [
      "              precision    recall  f1-score   support\n",
      "\n",
      "           0       1.00      0.18      0.31        11\n",
      "           1       0.80      0.19      0.31        21\n",
      "           2       0.66      1.00      0.79        48\n",
      "\n",
      "    accuracy                           0.68        80\n",
      "   macro avg       0.82      0.46      0.47        80\n",
      "weighted avg       0.74      0.68      0.60        80\n",
      "\n",
      "Confusion Matrix:\n",
      " [[ 2  1  8]\n",
      " [ 0  4 17]\n",
      " [ 0  0 48]]\n"
     ]
    }
   ],
   "source": [
    "nb_tfidf = MultinomialNB()\n",
    "nb_tfidf.fit(X_train_tfidf, y_train)  \n",
    "\n",
    "#Predict y value for test dataset\n",
    "y_predict = nb_tfidf.predict(X_val_tfidf)\n",
    "y_prob = nb_tfidf.predict_proba(X_val_tfidf)[:,1]\n",
    " \n",
    "\n",
    "print(classification_report(y_val,y_predict))\n",
    "print('Confusion Matrix:\\n',confusion_matrix(y_val, y_predict))\n",
    " "
   ]
  },
  {
   "cell_type": "code",
   "execution_count": 42,
   "metadata": {},
   "outputs": [
    {
     "name": "stdout",
     "output_type": "stream",
     "text": [
      "              precision    recall  f1-score   support\n",
      "\n",
      "           0       0.67      0.36      0.47        11\n",
      "           1       0.53      0.48      0.50        21\n",
      "           2       0.78      0.90      0.83        48\n",
      "\n",
      "    accuracy                           0.71        80\n",
      "   macro avg       0.66      0.58      0.60        80\n",
      "weighted avg       0.70      0.71      0.70        80\n",
      "\n",
      "Confusion Matrix:\n",
      " [[ 4  5  2]\n",
      " [ 1 10 10]\n",
      " [ 1  4 43]]\n"
     ]
    }
   ],
   "source": [
    "nb_cv = MultinomialNB()\n",
    "nb_cv.fit(X_train_cv, y_train)  #model\n",
    "\n",
    "#Predict y value for test dataset\n",
    "y_predict = nb_cv.predict(X_val_cv)\n",
    "y_prob = nb_cv.predict_proba(X_val_cv)[:,1]\n",
    " \n",
    "\n",
    "print(classification_report(y_val,y_predict))\n",
    "print('Confusion Matrix:\\n',confusion_matrix(y_val, y_predict))\n",
    " "
   ]
  },
  {
   "cell_type": "markdown",
   "metadata": {},
   "source": [
    "Lopgistic Regression"
   ]
  },
  {
   "cell_type": "code",
   "execution_count": 47,
   "metadata": {},
   "outputs": [
    {
     "name": "stdout",
     "output_type": "stream",
     "text": [
      "Parameters currently in use:\n",
      "\n",
      "{'C': 1.0,\n",
      " 'class_weight': None,\n",
      " 'dual': False,\n",
      " 'fit_intercept': True,\n",
      " 'intercept_scaling': 1,\n",
      " 'l1_ratio': None,\n",
      " 'max_iter': 100,\n",
      " 'multi_class': 'auto',\n",
      " 'n_jobs': None,\n",
      " 'penalty': 'l2',\n",
      " 'random_state': 42,\n",
      " 'solver': 'lbfgs',\n",
      " 'tol': 0.0001,\n",
      " 'verbose': 0,\n",
      " 'warm_start': False}\n"
     ]
    }
   ],
   "source": [
    "from pprint import pprint\n",
    "\n",
    "lr_0 = LogisticRegression(random_state = 42)\n",
    "print('Parameters currently in use:\\n')\n",
    "pprint(lr_0.get_params())"
   ]
  },
  {
   "cell_type": "code",
   "execution_count": 48,
   "metadata": {},
   "outputs": [
    {
     "name": "stdout",
     "output_type": "stream",
     "text": [
      "{'C': [0.1,\n",
      "       0.3020408163265306,\n",
      "       0.5040816326530613,\n",
      "       0.7061224489795919,\n",
      "       0.9081632653061225,\n",
      "       1.1102040816326533,\n",
      "       1.3122448979591839,\n",
      "       1.5142857142857145,\n",
      "       1.716326530612245,\n",
      "       1.9183673469387756,\n",
      "       2.1204081632653065,\n",
      "       2.322448979591837,\n",
      "       2.5244897959183676,\n",
      "       2.7265306122448982,\n",
      "       2.928571428571429,\n",
      "       3.1306122448979594,\n",
      "       3.33265306122449,\n",
      "       3.5346938775510206,\n",
      "       3.736734693877551,\n",
      "       3.938775510204082,\n",
      "       4.140816326530612,\n",
      "       4.3428571428571425,\n",
      "       4.544897959183674,\n",
      "       4.746938775510204,\n",
      "       4.948979591836735,\n",
      "       5.151020408163265,\n",
      "       5.353061224489796,\n",
      "       5.555102040816326,\n",
      "       5.757142857142857,\n",
      "       5.959183673469387,\n",
      "       6.161224489795918,\n",
      "       6.3632653061224485,\n",
      "       6.5653061224489795,\n",
      "       6.7673469387755105,\n",
      "       6.969387755102041,\n",
      "       7.171428571428572,\n",
      "       7.373469387755102,\n",
      "       7.575510204081633,\n",
      "       7.777551020408163,\n",
      "       7.979591836734694,\n",
      "       8.181632653061225,\n",
      "       8.383673469387755,\n",
      "       8.585714285714285,\n",
      "       8.787755102040816,\n",
      "       8.989795918367347,\n",
      "       9.191836734693878,\n",
      "       9.393877551020408,\n",
      "       9.595918367346938,\n",
      "       9.79795918367347,\n",
      "       10.0],\n",
      " 'class_weight': ['balanced', None],\n",
      " 'multi_class': ['multinomial'],\n",
      " 'penalty': ['l2'],\n",
      " 'solver': ['newton-cg', 'sag', 'saga', 'lbfgs']}\n"
     ]
    }
   ],
   "source": [
    "# C\n",
    "C = [float(x) for x in np.linspace(start = 0.1, stop = 10, num = 50)]\n",
    "\n",
    "# multi_class\n",
    "multi_class = ['multinomial']\n",
    "\n",
    "# solver\n",
    "solver = ['newton-cg', 'sag', 'saga', 'lbfgs']\n",
    " \n",
    "# class_weight\n",
    "class_weight = ['balanced', None]\n",
    "\n",
    "# penalty\n",
    "penalty = ['l2']\n",
    "\n",
    "# Create the random grid\n",
    "random_grid = {'C': C,\n",
    "               'multi_class': multi_class,\n",
    "               'solver': solver,\n",
    "               'class_weight': class_weight,\n",
    "               'penalty': penalty}\n",
    "\n",
    "pprint(random_grid)"
   ]
  },
  {
   "cell_type": "code",
   "execution_count": 60,
   "metadata": {},
   "outputs": [
    {
     "name": "stdout",
     "output_type": "stream",
     "text": [
      "Fitting 3 folds for each of 50 candidates, totalling 150 fits\n"
     ]
    },
    {
     "name": "stderr",
     "output_type": "stream",
     "text": [
      "/Users/shm/Projects/DS_NLP_Assignment/biomed-sentiment/venv/lib/python3.8/site-packages/sklearn/linear_model/_sag.py:352: ConvergenceWarning: The max_iter was reached which means the coef_ did not converge\n",
      "  warnings.warn(\n",
      "/Users/shm/Projects/DS_NLP_Assignment/biomed-sentiment/venv/lib/python3.8/site-packages/sklearn/linear_model/_sag.py:352: ConvergenceWarning: The max_iter was reached which means the coef_ did not converge\n",
      "  warnings.warn(\n",
      "/Users/shm/Projects/DS_NLP_Assignment/biomed-sentiment/venv/lib/python3.8/site-packages/sklearn/linear_model/_sag.py:352: ConvergenceWarning: The max_iter was reached which means the coef_ did not converge\n",
      "  warnings.warn(\n",
      "/Users/shm/Projects/DS_NLP_Assignment/biomed-sentiment/venv/lib/python3.8/site-packages/sklearn/linear_model/_sag.py:352: ConvergenceWarning: The max_iter was reached which means the coef_ did not converge\n",
      "  warnings.warn(\n",
      "/Users/shm/Projects/DS_NLP_Assignment/biomed-sentiment/venv/lib/python3.8/site-packages/sklearn/linear_model/_sag.py:352: ConvergenceWarning: The max_iter was reached which means the coef_ did not converge\n",
      "  warnings.warn(\n",
      "/Users/shm/Projects/DS_NLP_Assignment/biomed-sentiment/venv/lib/python3.8/site-packages/sklearn/linear_model/_sag.py:352: ConvergenceWarning: The max_iter was reached which means the coef_ did not converge\n",
      "  warnings.warn(\n",
      "/Users/shm/Projects/DS_NLP_Assignment/biomed-sentiment/venv/lib/python3.8/site-packages/sklearn/linear_model/_sag.py:352: ConvergenceWarning: The max_iter was reached which means the coef_ did not converge\n",
      "  warnings.warn(\n",
      "/Users/shm/Projects/DS_NLP_Assignment/biomed-sentiment/venv/lib/python3.8/site-packages/sklearn/linear_model/_sag.py:352: ConvergenceWarning: The max_iter was reached which means the coef_ did not converge\n",
      "  warnings.warn(\n",
      "/Users/shm/Projects/DS_NLP_Assignment/biomed-sentiment/venv/lib/python3.8/site-packages/sklearn/linear_model/_sag.py:352: ConvergenceWarning: The max_iter was reached which means the coef_ did not converge\n",
      "  warnings.warn(\n",
      "/Users/shm/Projects/DS_NLP_Assignment/biomed-sentiment/venv/lib/python3.8/site-packages/sklearn/linear_model/_sag.py:352: ConvergenceWarning: The max_iter was reached which means the coef_ did not converge\n",
      "  warnings.warn(\n",
      "/Users/shm/Projects/DS_NLP_Assignment/biomed-sentiment/venv/lib/python3.8/site-packages/sklearn/linear_model/_sag.py:352: ConvergenceWarning: The max_iter was reached which means the coef_ did not converge\n",
      "  warnings.warn(\n",
      "/Users/shm/Projects/DS_NLP_Assignment/biomed-sentiment/venv/lib/python3.8/site-packages/sklearn/linear_model/_sag.py:352: ConvergenceWarning: The max_iter was reached which means the coef_ did not converge\n",
      "  warnings.warn(\n",
      "/Users/shm/Projects/DS_NLP_Assignment/biomed-sentiment/venv/lib/python3.8/site-packages/sklearn/linear_model/_sag.py:352: ConvergenceWarning: The max_iter was reached which means the coef_ did not converge\n",
      "  warnings.warn(\n",
      "/Users/shm/Projects/DS_NLP_Assignment/biomed-sentiment/venv/lib/python3.8/site-packages/sklearn/linear_model/_sag.py:352: ConvergenceWarning: The max_iter was reached which means the coef_ did not converge\n",
      "  warnings.warn(\n",
      "/Users/shm/Projects/DS_NLP_Assignment/biomed-sentiment/venv/lib/python3.8/site-packages/sklearn/linear_model/_sag.py:352: ConvergenceWarning: The max_iter was reached which means the coef_ did not converge\n",
      "  warnings.warn(\n",
      "/Users/shm/Projects/DS_NLP_Assignment/biomed-sentiment/venv/lib/python3.8/site-packages/sklearn/linear_model/_sag.py:352: ConvergenceWarning: The max_iter was reached which means the coef_ did not converge\n",
      "  warnings.warn(\n",
      "/Users/shm/Projects/DS_NLP_Assignment/biomed-sentiment/venv/lib/python3.8/site-packages/sklearn/linear_model/_sag.py:352: ConvergenceWarning: The max_iter was reached which means the coef_ did not converge\n",
      "  warnings.warn(\n",
      "/Users/shm/Projects/DS_NLP_Assignment/biomed-sentiment/venv/lib/python3.8/site-packages/sklearn/linear_model/_sag.py:352: ConvergenceWarning: The max_iter was reached which means the coef_ did not converge\n",
      "  warnings.warn(\n",
      "/Users/shm/Projects/DS_NLP_Assignment/biomed-sentiment/venv/lib/python3.8/site-packages/sklearn/linear_model/_sag.py:352: ConvergenceWarning: The max_iter was reached which means the coef_ did not converge\n",
      "  warnings.warn(\n",
      "/Users/shm/Projects/DS_NLP_Assignment/biomed-sentiment/venv/lib/python3.8/site-packages/sklearn/linear_model/_sag.py:352: ConvergenceWarning: The max_iter was reached which means the coef_ did not converge\n",
      "  warnings.warn(\n",
      "/Users/shm/Projects/DS_NLP_Assignment/biomed-sentiment/venv/lib/python3.8/site-packages/sklearn/linear_model/_sag.py:352: ConvergenceWarning: The max_iter was reached which means the coef_ did not converge\n",
      "  warnings.warn(\n",
      "/Users/shm/Projects/DS_NLP_Assignment/biomed-sentiment/venv/lib/python3.8/site-packages/sklearn/linear_model/_sag.py:352: ConvergenceWarning: The max_iter was reached which means the coef_ did not converge\n",
      "  warnings.warn(\n",
      "/Users/shm/Projects/DS_NLP_Assignment/biomed-sentiment/venv/lib/python3.8/site-packages/sklearn/linear_model/_sag.py:352: ConvergenceWarning: The max_iter was reached which means the coef_ did not converge\n",
      "  warnings.warn(\n",
      "/Users/shm/Projects/DS_NLP_Assignment/biomed-sentiment/venv/lib/python3.8/site-packages/sklearn/linear_model/_sag.py:352: ConvergenceWarning: The max_iter was reached which means the coef_ did not converge\n",
      "  warnings.warn(\n",
      "/Users/shm/Projects/DS_NLP_Assignment/biomed-sentiment/venv/lib/python3.8/site-packages/sklearn/linear_model/_sag.py:352: ConvergenceWarning: The max_iter was reached which means the coef_ did not converge\n",
      "  warnings.warn(\n",
      "/Users/shm/Projects/DS_NLP_Assignment/biomed-sentiment/venv/lib/python3.8/site-packages/sklearn/linear_model/_sag.py:352: ConvergenceWarning: The max_iter was reached which means the coef_ did not converge\n",
      "  warnings.warn(\n",
      "/Users/shm/Projects/DS_NLP_Assignment/biomed-sentiment/venv/lib/python3.8/site-packages/sklearn/linear_model/_sag.py:352: ConvergenceWarning: The max_iter was reached which means the coef_ did not converge\n",
      "  warnings.warn(\n",
      "/Users/shm/Projects/DS_NLP_Assignment/biomed-sentiment/venv/lib/python3.8/site-packages/sklearn/linear_model/_sag.py:352: ConvergenceWarning: The max_iter was reached which means the coef_ did not converge\n",
      "  warnings.warn(\n",
      "/Users/shm/Projects/DS_NLP_Assignment/biomed-sentiment/venv/lib/python3.8/site-packages/sklearn/linear_model/_sag.py:352: ConvergenceWarning: The max_iter was reached which means the coef_ did not converge\n",
      "  warnings.warn(\n",
      "/Users/shm/Projects/DS_NLP_Assignment/biomed-sentiment/venv/lib/python3.8/site-packages/sklearn/linear_model/_sag.py:352: ConvergenceWarning: The max_iter was reached which means the coef_ did not converge\n",
      "  warnings.warn(\n",
      "/Users/shm/Projects/DS_NLP_Assignment/biomed-sentiment/venv/lib/python3.8/site-packages/sklearn/linear_model/_sag.py:352: ConvergenceWarning: The max_iter was reached which means the coef_ did not converge\n",
      "  warnings.warn(\n",
      "/Users/shm/Projects/DS_NLP_Assignment/biomed-sentiment/venv/lib/python3.8/site-packages/sklearn/linear_model/_sag.py:352: ConvergenceWarning: The max_iter was reached which means the coef_ did not converge\n",
      "  warnings.warn(\n",
      "/Users/shm/Projects/DS_NLP_Assignment/biomed-sentiment/venv/lib/python3.8/site-packages/sklearn/linear_model/_sag.py:352: ConvergenceWarning: The max_iter was reached which means the coef_ did not converge\n",
      "  warnings.warn(\n",
      "/Users/shm/Projects/DS_NLP_Assignment/biomed-sentiment/venv/lib/python3.8/site-packages/sklearn/linear_model/_sag.py:352: ConvergenceWarning: The max_iter was reached which means the coef_ did not converge\n",
      "  warnings.warn(\n",
      "/Users/shm/Projects/DS_NLP_Assignment/biomed-sentiment/venv/lib/python3.8/site-packages/sklearn/linear_model/_sag.py:352: ConvergenceWarning: The max_iter was reached which means the coef_ did not converge\n",
      "  warnings.warn(\n",
      "/Users/shm/Projects/DS_NLP_Assignment/biomed-sentiment/venv/lib/python3.8/site-packages/sklearn/linear_model/_sag.py:352: ConvergenceWarning: The max_iter was reached which means the coef_ did not converge\n",
      "  warnings.warn(\n",
      "/Users/shm/Projects/DS_NLP_Assignment/biomed-sentiment/venv/lib/python3.8/site-packages/sklearn/linear_model/_sag.py:352: ConvergenceWarning: The max_iter was reached which means the coef_ did not converge\n",
      "  warnings.warn(\n",
      "/Users/shm/Projects/DS_NLP_Assignment/biomed-sentiment/venv/lib/python3.8/site-packages/sklearn/linear_model/_sag.py:352: ConvergenceWarning: The max_iter was reached which means the coef_ did not converge\n",
      "  warnings.warn(\n",
      "/Users/shm/Projects/DS_NLP_Assignment/biomed-sentiment/venv/lib/python3.8/site-packages/sklearn/linear_model/_sag.py:352: ConvergenceWarning: The max_iter was reached which means the coef_ did not converge\n",
      "  warnings.warn(\n",
      "/Users/shm/Projects/DS_NLP_Assignment/biomed-sentiment/venv/lib/python3.8/site-packages/sklearn/linear_model/_sag.py:352: ConvergenceWarning: The max_iter was reached which means the coef_ did not converge\n",
      "  warnings.warn(\n"
     ]
    },
    {
     "name": "stderr",
     "output_type": "stream",
     "text": [
      "/Users/shm/Projects/DS_NLP_Assignment/biomed-sentiment/venv/lib/python3.8/site-packages/sklearn/linear_model/_sag.py:352: ConvergenceWarning: The max_iter was reached which means the coef_ did not converge\n",
      "  warnings.warn(\n",
      "/Users/shm/Projects/DS_NLP_Assignment/biomed-sentiment/venv/lib/python3.8/site-packages/sklearn/linear_model/_sag.py:352: ConvergenceWarning: The max_iter was reached which means the coef_ did not converge\n",
      "  warnings.warn(\n",
      "/Users/shm/Projects/DS_NLP_Assignment/biomed-sentiment/venv/lib/python3.8/site-packages/sklearn/linear_model/_sag.py:352: ConvergenceWarning: The max_iter was reached which means the coef_ did not converge\n",
      "  warnings.warn(\n",
      "/Users/shm/Projects/DS_NLP_Assignment/biomed-sentiment/venv/lib/python3.8/site-packages/sklearn/linear_model/_sag.py:352: ConvergenceWarning: The max_iter was reached which means the coef_ did not converge\n",
      "  warnings.warn(\n",
      "/Users/shm/Projects/DS_NLP_Assignment/biomed-sentiment/venv/lib/python3.8/site-packages/sklearn/linear_model/_sag.py:352: ConvergenceWarning: The max_iter was reached which means the coef_ did not converge\n",
      "  warnings.warn(\n",
      "/Users/shm/Projects/DS_NLP_Assignment/biomed-sentiment/venv/lib/python3.8/site-packages/sklearn/linear_model/_sag.py:352: ConvergenceWarning: The max_iter was reached which means the coef_ did not converge\n",
      "  warnings.warn(\n",
      "/Users/shm/Projects/DS_NLP_Assignment/biomed-sentiment/venv/lib/python3.8/site-packages/sklearn/linear_model/_sag.py:352: ConvergenceWarning: The max_iter was reached which means the coef_ did not converge\n",
      "  warnings.warn(\n",
      "/Users/shm/Projects/DS_NLP_Assignment/biomed-sentiment/venv/lib/python3.8/site-packages/sklearn/linear_model/_sag.py:352: ConvergenceWarning: The max_iter was reached which means the coef_ did not converge\n",
      "  warnings.warn(\n"
     ]
    },
    {
     "data": {
      "text/plain": [
       "RandomizedSearchCV(cv=3, estimator=LogisticRegression(random_state=42),\n",
       "                   n_iter=50,\n",
       "                   param_distributions={'C': [0.1, 0.3020408163265306,\n",
       "                                              0.5040816326530613,\n",
       "                                              0.7061224489795919,\n",
       "                                              0.9081632653061225,\n",
       "                                              1.1102040816326533,\n",
       "                                              1.3122448979591839,\n",
       "                                              1.5142857142857145,\n",
       "                                              1.716326530612245,\n",
       "                                              1.9183673469387756,\n",
       "                                              2.1204081632653065,\n",
       "                                              2.322448979591837,\n",
       "                                              2.5244897959183676,\n",
       "                                              2.726530612244...\n",
       "                                              4.140816326530612,\n",
       "                                              4.3428571428571425,\n",
       "                                              4.544897959183674,\n",
       "                                              4.746938775510204,\n",
       "                                              4.948979591836735,\n",
       "                                              5.151020408163265,\n",
       "                                              5.353061224489796,\n",
       "                                              5.555102040816326,\n",
       "                                              5.757142857142857,\n",
       "                                              5.959183673469387, ...],\n",
       "                                        'class_weight': ['balanced', None],\n",
       "                                        'multi_class': ['multinomial'],\n",
       "                                        'penalty': ['l2'],\n",
       "                                        'solver': ['newton-cg', 'sag', 'saga',\n",
       "                                                   'lbfgs']},\n",
       "                   random_state=42, scoring='accuracy', verbose=1)"
      ]
     },
     "execution_count": 60,
     "metadata": {},
     "output_type": "execute_result"
    }
   ],
   "source": [
    "from sklearn.model_selection import RandomizedSearchCV\n",
    "from sklearn.model_selection import GridSearchCV\n",
    "# First create base model to tune\n",
    "lrc = LogisticRegression(random_state=42)\n",
    "\n",
    "# Definition of the random search\n",
    "random_search = RandomizedSearchCV(estimator=lrc,\n",
    "                                   param_distributions=random_grid,\n",
    "                                   n_iter=50,\n",
    "                                   scoring='accuracy',\n",
    "                                   cv=3, \n",
    "                                   verbose=1, \n",
    "                                   random_state=42)\n",
    "\n",
    "# Fit the random search model\n",
    "random_search.fit(X_train_tfidf, y_train)"
   ]
  },
  {
   "cell_type": "code",
   "execution_count": 61,
   "metadata": {},
   "outputs": [
    {
     "name": "stdout",
     "output_type": "stream",
     "text": [
      "The best hyperparameters from Random Search are:\n",
      "{'solver': 'saga', 'penalty': 'l2', 'multi_class': 'multinomial', 'class_weight': 'balanced', 'C': 6.7673469387755105}\n",
      "\n",
      "The mean accuracy of a model with these hyperparameters is:\n",
      "0.6881720430107526\n"
     ]
    }
   ],
   "source": [
    "print(\"The best hyperparameters from Random Search are:\")\n",
    "print(random_search.best_params_)\n",
    "print(\"\")\n",
    "print(\"The mean accuracy of a model with these hyperparameters is:\")\n",
    "print(random_search.best_score_)"
   ]
  },
  {
   "cell_type": "code",
   "execution_count": 63,
   "metadata": {},
   "outputs": [],
   "source": [
    "best_lrc = random_search.best_estimator_\n",
    "lrc_pred = best_lrc.predict(X_val_tfidf)"
   ]
  },
  {
   "cell_type": "code",
   "execution_count": 64,
   "metadata": {},
   "outputs": [
    {
     "name": "stdout",
     "output_type": "stream",
     "text": [
      "Classification report\n",
      "              precision    recall  f1-score   support\n",
      "\n",
      "           0       0.44      0.36      0.40        11\n",
      "           1       0.50      0.48      0.49        21\n",
      "           2       0.75      0.79      0.77        48\n",
      "\n",
      "    accuracy                           0.65        80\n",
      "   macro avg       0.56      0.54      0.55        80\n",
      "weighted avg       0.64      0.65      0.64        80\n",
      "\n"
     ]
    }
   ],
   "source": [
    "# Classification report\n",
    "print(\"Classification report\")\n",
    "print(classification_report(y_val,lrc_pred))"
   ]
  },
  {
   "cell_type": "markdown",
   "metadata": {},
   "source": [
    "Embeddings? probably not as Tf/Idf did worse than count vectorizer"
   ]
  },
  {
   "cell_type": "code",
   "execution_count": 65,
   "metadata": {},
   "outputs": [],
   "source": [
    "word2vec_path = '../models/bio_embedding_extrinsic'\n",
    "w2v_model = KeyedVectors.load_word2vec_format(word2vec_path, binary=True)"
   ]
  },
  {
   "cell_type": "code",
   "execution_count": 66,
   "metadata": {},
   "outputs": [
    {
     "data": {
      "text/plain": [
       "200"
      ]
     },
     "execution_count": 66,
     "metadata": {},
     "output_type": "execute_result"
    }
   ],
   "source": [
    "w2v_model.vector_size"
   ]
  },
  {
   "cell_type": "code",
   "execution_count": 67,
   "metadata": {},
   "outputs": [],
   "source": [
    "class MeanEmbeddingVectorizer(object):\n",
    "    def __init__(self, word2vec):\n",
    "        self.word2vec = word2vec\n",
    "        self.dim = word2vec.vector_size\n",
    "\n",
    "    def fit(self, X, y):\n",
    "        return self\n",
    "\n",
    "    def transform(self, X):\n",
    "        return np.array([\n",
    "            np.mean([self.word2vec[w] for w in words if w in self.word2vec]\n",
    "                    or [np.zeros(self.dim)], axis=0) # for oov \n",
    "            for words in X\n",
    "        ])\n"
   ]
  },
  {
   "cell_type": "code",
   "execution_count": 68,
   "metadata": {},
   "outputs": [],
   "source": [
    "X_train_tok= [nltk.word_tokenize(i) for i in X_train]  #for word2vec\n",
    "X_val_tok = [nltk.word_tokenize(i) for i in X_val]      #for word2vec"
   ]
  },
  {
   "cell_type": "code",
   "execution_count": 69,
   "metadata": {},
   "outputs": [],
   "source": [
    "# Fit and transform\n",
    "mev = MeanEmbeddingVectorizer(w2v_model)\n",
    "X_train_w2v = mev.transform(X_train_tok)\n",
    "X_val_w2v = mev.transform(X_val_tok)"
   ]
  },
  {
   "cell_type": "code",
   "execution_count": 71,
   "metadata": {},
   "outputs": [
    {
     "name": "stdout",
     "output_type": "stream",
     "text": [
      "              precision    recall  f1-score   support\n",
      "\n",
      "           0       0.67      0.18      0.29        11\n",
      "           1       0.43      0.43      0.43        21\n",
      "           2       0.75      0.88      0.81        48\n",
      "\n",
      "    accuracy                           0.66        80\n",
      "   macro avg       0.62      0.50      0.51        80\n",
      "weighted avg       0.65      0.66      0.64        80\n",
      "\n",
      "Confusion Matrix:\n",
      " [[ 2  6  3]\n",
      " [ 1  9 11]\n",
      " [ 0  6 42]]\n"
     ]
    }
   ],
   "source": [
    "#FITTING THE CLASSIFICATION MODEL using Logistic Regression (W2v)\n",
    "lr_w2v= LogisticRegression(solver = 'liblinear', C=10, penalty = 'l2')\n",
    "lr_w2v.fit(X_train_w2v, y_train)  #model\n",
    "\n",
    "#Predict y value for test dataset\n",
    "y_predict = lr_w2v.predict(X_val_w2v)\n",
    "y_prob = lr_w2v.predict_proba(X_val_w2v)[:,1]\n",
    " \n",
    "\n",
    "print(classification_report(y_val,y_predict))\n",
    "print('Confusion Matrix:\\n',confusion_matrix(y_val, y_predict))\n",
    " "
   ]
  },
  {
   "cell_type": "code",
   "execution_count": null,
   "metadata": {},
   "outputs": [],
   "source": []
  },
  {
   "cell_type": "code",
   "execution_count": 72,
   "metadata": {},
   "outputs": [
    {
     "name": "stdout",
     "output_type": "stream",
     "text": [
      "Fitting 3 folds for each of 50 candidates, totalling 150 fits\n"
     ]
    },
    {
     "name": "stderr",
     "output_type": "stream",
     "text": [
      "/Users/shm/Projects/DS_NLP_Assignment/biomed-sentiment/venv/lib/python3.8/site-packages/sklearn/linear_model/_sag.py:352: ConvergenceWarning: The max_iter was reached which means the coef_ did not converge\n",
      "  warnings.warn(\n",
      "/Users/shm/Projects/DS_NLP_Assignment/biomed-sentiment/venv/lib/python3.8/site-packages/sklearn/linear_model/_sag.py:352: ConvergenceWarning: The max_iter was reached which means the coef_ did not converge\n",
      "  warnings.warn(\n",
      "/Users/shm/Projects/DS_NLP_Assignment/biomed-sentiment/venv/lib/python3.8/site-packages/sklearn/linear_model/_sag.py:352: ConvergenceWarning: The max_iter was reached which means the coef_ did not converge\n",
      "  warnings.warn(\n",
      "/Users/shm/Projects/DS_NLP_Assignment/biomed-sentiment/venv/lib/python3.8/site-packages/sklearn/linear_model/_sag.py:352: ConvergenceWarning: The max_iter was reached which means the coef_ did not converge\n",
      "  warnings.warn(\n",
      "/Users/shm/Projects/DS_NLP_Assignment/biomed-sentiment/venv/lib/python3.8/site-packages/sklearn/linear_model/_sag.py:352: ConvergenceWarning: The max_iter was reached which means the coef_ did not converge\n",
      "  warnings.warn(\n",
      "/Users/shm/Projects/DS_NLP_Assignment/biomed-sentiment/venv/lib/python3.8/site-packages/sklearn/linear_model/_sag.py:352: ConvergenceWarning: The max_iter was reached which means the coef_ did not converge\n",
      "  warnings.warn(\n",
      "/Users/shm/Projects/DS_NLP_Assignment/biomed-sentiment/venv/lib/python3.8/site-packages/sklearn/linear_model/_sag.py:352: ConvergenceWarning: The max_iter was reached which means the coef_ did not converge\n",
      "  warnings.warn(\n",
      "/Users/shm/Projects/DS_NLP_Assignment/biomed-sentiment/venv/lib/python3.8/site-packages/sklearn/linear_model/_sag.py:352: ConvergenceWarning: The max_iter was reached which means the coef_ did not converge\n",
      "  warnings.warn(\n",
      "/Users/shm/Projects/DS_NLP_Assignment/biomed-sentiment/venv/lib/python3.8/site-packages/scipy/optimize/linesearch.py:327: LineSearchWarning: The line search algorithm did not converge\n",
      "  warn('The line search algorithm did not converge', LineSearchWarning)\n",
      "/Users/shm/Projects/DS_NLP_Assignment/biomed-sentiment/venv/lib/python3.8/site-packages/sklearn/utils/optimize.py:203: UserWarning: Line Search failed\n",
      "  warnings.warn(\"Line Search failed\")\n",
      "/Users/shm/Projects/DS_NLP_Assignment/biomed-sentiment/venv/lib/python3.8/site-packages/sklearn/linear_model/_sag.py:352: ConvergenceWarning: The max_iter was reached which means the coef_ did not converge\n",
      "  warnings.warn(\n",
      "/Users/shm/Projects/DS_NLP_Assignment/biomed-sentiment/venv/lib/python3.8/site-packages/sklearn/linear_model/_sag.py:352: ConvergenceWarning: The max_iter was reached which means the coef_ did not converge\n",
      "  warnings.warn(\n",
      "/Users/shm/Projects/DS_NLP_Assignment/biomed-sentiment/venv/lib/python3.8/site-packages/sklearn/linear_model/_sag.py:352: ConvergenceWarning: The max_iter was reached which means the coef_ did not converge\n",
      "  warnings.warn(\n",
      "/Users/shm/Projects/DS_NLP_Assignment/biomed-sentiment/venv/lib/python3.8/site-packages/sklearn/linear_model/_sag.py:352: ConvergenceWarning: The max_iter was reached which means the coef_ did not converge\n",
      "  warnings.warn(\n",
      "/Users/shm/Projects/DS_NLP_Assignment/biomed-sentiment/venv/lib/python3.8/site-packages/sklearn/linear_model/_sag.py:352: ConvergenceWarning: The max_iter was reached which means the coef_ did not converge\n",
      "  warnings.warn(\n",
      "/Users/shm/Projects/DS_NLP_Assignment/biomed-sentiment/venv/lib/python3.8/site-packages/sklearn/linear_model/_sag.py:352: ConvergenceWarning: The max_iter was reached which means the coef_ did not converge\n",
      "  warnings.warn(\n",
      "/Users/shm/Projects/DS_NLP_Assignment/biomed-sentiment/venv/lib/python3.8/site-packages/sklearn/linear_model/_sag.py:352: ConvergenceWarning: The max_iter was reached which means the coef_ did not converge\n",
      "  warnings.warn(\n",
      "/Users/shm/Projects/DS_NLP_Assignment/biomed-sentiment/venv/lib/python3.8/site-packages/sklearn/linear_model/_sag.py:352: ConvergenceWarning: The max_iter was reached which means the coef_ did not converge\n",
      "  warnings.warn(\n",
      "/Users/shm/Projects/DS_NLP_Assignment/biomed-sentiment/venv/lib/python3.8/site-packages/sklearn/linear_model/_sag.py:352: ConvergenceWarning: The max_iter was reached which means the coef_ did not converge\n",
      "  warnings.warn(\n",
      "/Users/shm/Projects/DS_NLP_Assignment/biomed-sentiment/venv/lib/python3.8/site-packages/sklearn/linear_model/_sag.py:352: ConvergenceWarning: The max_iter was reached which means the coef_ did not converge\n",
      "  warnings.warn(\n",
      "/Users/shm/Projects/DS_NLP_Assignment/biomed-sentiment/venv/lib/python3.8/site-packages/sklearn/linear_model/_sag.py:352: ConvergenceWarning: The max_iter was reached which means the coef_ did not converge\n",
      "  warnings.warn(\n",
      "/Users/shm/Projects/DS_NLP_Assignment/biomed-sentiment/venv/lib/python3.8/site-packages/sklearn/linear_model/_sag.py:352: ConvergenceWarning: The max_iter was reached which means the coef_ did not converge\n",
      "  warnings.warn(\n",
      "/Users/shm/Projects/DS_NLP_Assignment/biomed-sentiment/venv/lib/python3.8/site-packages/sklearn/linear_model/_sag.py:352: ConvergenceWarning: The max_iter was reached which means the coef_ did not converge\n",
      "  warnings.warn(\n",
      "/Users/shm/Projects/DS_NLP_Assignment/biomed-sentiment/venv/lib/python3.8/site-packages/sklearn/linear_model/_sag.py:352: ConvergenceWarning: The max_iter was reached which means the coef_ did not converge\n",
      "  warnings.warn(\n",
      "/Users/shm/Projects/DS_NLP_Assignment/biomed-sentiment/venv/lib/python3.8/site-packages/sklearn/linear_model/_sag.py:352: ConvergenceWarning: The max_iter was reached which means the coef_ did not converge\n",
      "  warnings.warn(\n",
      "/Users/shm/Projects/DS_NLP_Assignment/biomed-sentiment/venv/lib/python3.8/site-packages/sklearn/linear_model/_sag.py:352: ConvergenceWarning: The max_iter was reached which means the coef_ did not converge\n",
      "  warnings.warn(\n",
      "/Users/shm/Projects/DS_NLP_Assignment/biomed-sentiment/venv/lib/python3.8/site-packages/sklearn/linear_model/_sag.py:352: ConvergenceWarning: The max_iter was reached which means the coef_ did not converge\n",
      "  warnings.warn(\n",
      "/Users/shm/Projects/DS_NLP_Assignment/biomed-sentiment/venv/lib/python3.8/site-packages/sklearn/linear_model/_sag.py:352: ConvergenceWarning: The max_iter was reached which means the coef_ did not converge\n",
      "  warnings.warn(\n",
      "/Users/shm/Projects/DS_NLP_Assignment/biomed-sentiment/venv/lib/python3.8/site-packages/sklearn/linear_model/_logistic.py:814: ConvergenceWarning: lbfgs failed to converge (status=1):\n",
      "STOP: TOTAL NO. of ITERATIONS REACHED LIMIT.\n",
      "\n",
      "Increase the number of iterations (max_iter) or scale the data as shown in:\n",
      "    https://scikit-learn.org/stable/modules/preprocessing.html\n",
      "Please also refer to the documentation for alternative solver options:\n",
      "    https://scikit-learn.org/stable/modules/linear_model.html#logistic-regression\n",
      "  n_iter_i = _check_optimize_result(\n",
      "/Users/shm/Projects/DS_NLP_Assignment/biomed-sentiment/venv/lib/python3.8/site-packages/sklearn/linear_model/_sag.py:352: ConvergenceWarning: The max_iter was reached which means the coef_ did not converge\n",
      "  warnings.warn(\n",
      "/Users/shm/Projects/DS_NLP_Assignment/biomed-sentiment/venv/lib/python3.8/site-packages/sklearn/linear_model/_sag.py:352: ConvergenceWarning: The max_iter was reached which means the coef_ did not converge\n",
      "  warnings.warn(\n",
      "/Users/shm/Projects/DS_NLP_Assignment/biomed-sentiment/venv/lib/python3.8/site-packages/sklearn/linear_model/_sag.py:352: ConvergenceWarning: The max_iter was reached which means the coef_ did not converge\n",
      "  warnings.warn(\n",
      "/Users/shm/Projects/DS_NLP_Assignment/biomed-sentiment/venv/lib/python3.8/site-packages/sklearn/linear_model/_logistic.py:814: ConvergenceWarning: lbfgs failed to converge (status=1):\n",
      "STOP: TOTAL NO. of ITERATIONS REACHED LIMIT.\n",
      "\n",
      "Increase the number of iterations (max_iter) or scale the data as shown in:\n",
      "    https://scikit-learn.org/stable/modules/preprocessing.html\n",
      "Please also refer to the documentation for alternative solver options:\n",
      "    https://scikit-learn.org/stable/modules/linear_model.html#logistic-regression\n",
      "  n_iter_i = _check_optimize_result(\n",
      "/Users/shm/Projects/DS_NLP_Assignment/biomed-sentiment/venv/lib/python3.8/site-packages/sklearn/linear_model/_logistic.py:814: ConvergenceWarning: lbfgs failed to converge (status=1):\n",
      "STOP: TOTAL NO. of ITERATIONS REACHED LIMIT.\n",
      "\n",
      "Increase the number of iterations (max_iter) or scale the data as shown in:\n",
      "    https://scikit-learn.org/stable/modules/preprocessing.html\n",
      "Please also refer to the documentation for alternative solver options:\n",
      "    https://scikit-learn.org/stable/modules/linear_model.html#logistic-regression\n",
      "  n_iter_i = _check_optimize_result(\n",
      "/Users/shm/Projects/DS_NLP_Assignment/biomed-sentiment/venv/lib/python3.8/site-packages/sklearn/linear_model/_logistic.py:814: ConvergenceWarning: lbfgs failed to converge (status=1):\n",
      "STOP: TOTAL NO. of ITERATIONS REACHED LIMIT.\n",
      "\n",
      "Increase the number of iterations (max_iter) or scale the data as shown in:\n",
      "    https://scikit-learn.org/stable/modules/preprocessing.html\n",
      "Please also refer to the documentation for alternative solver options:\n",
      "    https://scikit-learn.org/stable/modules/linear_model.html#logistic-regression\n",
      "  n_iter_i = _check_optimize_result(\n",
      "/Users/shm/Projects/DS_NLP_Assignment/biomed-sentiment/venv/lib/python3.8/site-packages/sklearn/linear_model/_logistic.py:814: ConvergenceWarning: lbfgs failed to converge (status=1):\n",
      "STOP: TOTAL NO. of ITERATIONS REACHED LIMIT.\n",
      "\n",
      "Increase the number of iterations (max_iter) or scale the data as shown in:\n",
      "    https://scikit-learn.org/stable/modules/preprocessing.html\n",
      "Please also refer to the documentation for alternative solver options:\n",
      "    https://scikit-learn.org/stable/modules/linear_model.html#logistic-regression\n",
      "  n_iter_i = _check_optimize_result(\n",
      "/Users/shm/Projects/DS_NLP_Assignment/biomed-sentiment/venv/lib/python3.8/site-packages/scipy/optimize/linesearch.py:327: LineSearchWarning: The line search algorithm did not converge\n",
      "  warn('The line search algorithm did not converge', LineSearchWarning)\n",
      "/Users/shm/Projects/DS_NLP_Assignment/biomed-sentiment/venv/lib/python3.8/site-packages/sklearn/utils/optimize.py:203: UserWarning: Line Search failed\n",
      "  warnings.warn(\"Line Search failed\")\n"
     ]
    },
    {
     "name": "stderr",
     "output_type": "stream",
     "text": [
      "/Users/shm/Projects/DS_NLP_Assignment/biomed-sentiment/venv/lib/python3.8/site-packages/scipy/optimize/linesearch.py:327: LineSearchWarning: The line search algorithm did not converge\n",
      "  warn('The line search algorithm did not converge', LineSearchWarning)\n",
      "/Users/shm/Projects/DS_NLP_Assignment/biomed-sentiment/venv/lib/python3.8/site-packages/sklearn/utils/optimize.py:203: UserWarning: Line Search failed\n",
      "  warnings.warn(\"Line Search failed\")\n",
      "/Users/shm/Projects/DS_NLP_Assignment/biomed-sentiment/venv/lib/python3.8/site-packages/scipy/optimize/linesearch.py:327: LineSearchWarning: The line search algorithm did not converge\n",
      "  warn('The line search algorithm did not converge', LineSearchWarning)\n",
      "/Users/shm/Projects/DS_NLP_Assignment/biomed-sentiment/venv/lib/python3.8/site-packages/sklearn/utils/optimize.py:203: UserWarning: Line Search failed\n",
      "  warnings.warn(\"Line Search failed\")\n",
      "/Users/shm/Projects/DS_NLP_Assignment/biomed-sentiment/venv/lib/python3.8/site-packages/sklearn/linear_model/_sag.py:352: ConvergenceWarning: The max_iter was reached which means the coef_ did not converge\n",
      "  warnings.warn(\n",
      "/Users/shm/Projects/DS_NLP_Assignment/biomed-sentiment/venv/lib/python3.8/site-packages/sklearn/linear_model/_sag.py:352: ConvergenceWarning: The max_iter was reached which means the coef_ did not converge\n",
      "  warnings.warn(\n",
      "/Users/shm/Projects/DS_NLP_Assignment/biomed-sentiment/venv/lib/python3.8/site-packages/sklearn/linear_model/_sag.py:352: ConvergenceWarning: The max_iter was reached which means the coef_ did not converge\n",
      "  warnings.warn(\n",
      "/Users/shm/Projects/DS_NLP_Assignment/biomed-sentiment/venv/lib/python3.8/site-packages/sklearn/linear_model/_sag.py:352: ConvergenceWarning: The max_iter was reached which means the coef_ did not converge\n",
      "  warnings.warn(\n",
      "/Users/shm/Projects/DS_NLP_Assignment/biomed-sentiment/venv/lib/python3.8/site-packages/sklearn/linear_model/_sag.py:352: ConvergenceWarning: The max_iter was reached which means the coef_ did not converge\n",
      "  warnings.warn(\n",
      "/Users/shm/Projects/DS_NLP_Assignment/biomed-sentiment/venv/lib/python3.8/site-packages/sklearn/linear_model/_sag.py:352: ConvergenceWarning: The max_iter was reached which means the coef_ did not converge\n",
      "  warnings.warn(\n",
      "/Users/shm/Projects/DS_NLP_Assignment/biomed-sentiment/venv/lib/python3.8/site-packages/sklearn/linear_model/_sag.py:352: ConvergenceWarning: The max_iter was reached which means the coef_ did not converge\n",
      "  warnings.warn(\n",
      "/Users/shm/Projects/DS_NLP_Assignment/biomed-sentiment/venv/lib/python3.8/site-packages/sklearn/linear_model/_sag.py:352: ConvergenceWarning: The max_iter was reached which means the coef_ did not converge\n",
      "  warnings.warn(\n",
      "/Users/shm/Projects/DS_NLP_Assignment/biomed-sentiment/venv/lib/python3.8/site-packages/sklearn/linear_model/_sag.py:352: ConvergenceWarning: The max_iter was reached which means the coef_ did not converge\n",
      "  warnings.warn(\n",
      "/Users/shm/Projects/DS_NLP_Assignment/biomed-sentiment/venv/lib/python3.8/site-packages/sklearn/linear_model/_logistic.py:814: ConvergenceWarning: lbfgs failed to converge (status=1):\n",
      "STOP: TOTAL NO. of ITERATIONS REACHED LIMIT.\n",
      "\n",
      "Increase the number of iterations (max_iter) or scale the data as shown in:\n",
      "    https://scikit-learn.org/stable/modules/preprocessing.html\n",
      "Please also refer to the documentation for alternative solver options:\n",
      "    https://scikit-learn.org/stable/modules/linear_model.html#logistic-regression\n",
      "  n_iter_i = _check_optimize_result(\n",
      "/Users/shm/Projects/DS_NLP_Assignment/biomed-sentiment/venv/lib/python3.8/site-packages/sklearn/linear_model/_logistic.py:814: ConvergenceWarning: lbfgs failed to converge (status=1):\n",
      "STOP: TOTAL NO. of ITERATIONS REACHED LIMIT.\n",
      "\n",
      "Increase the number of iterations (max_iter) or scale the data as shown in:\n",
      "    https://scikit-learn.org/stable/modules/preprocessing.html\n",
      "Please also refer to the documentation for alternative solver options:\n",
      "    https://scikit-learn.org/stable/modules/linear_model.html#logistic-regression\n",
      "  n_iter_i = _check_optimize_result(\n",
      "/Users/shm/Projects/DS_NLP_Assignment/biomed-sentiment/venv/lib/python3.8/site-packages/sklearn/linear_model/_logistic.py:814: ConvergenceWarning: lbfgs failed to converge (status=1):\n",
      "STOP: TOTAL NO. of ITERATIONS REACHED LIMIT.\n",
      "\n",
      "Increase the number of iterations (max_iter) or scale the data as shown in:\n",
      "    https://scikit-learn.org/stable/modules/preprocessing.html\n",
      "Please also refer to the documentation for alternative solver options:\n",
      "    https://scikit-learn.org/stable/modules/linear_model.html#logistic-regression\n",
      "  n_iter_i = _check_optimize_result(\n",
      "/Users/shm/Projects/DS_NLP_Assignment/biomed-sentiment/venv/lib/python3.8/site-packages/sklearn/linear_model/_sag.py:352: ConvergenceWarning: The max_iter was reached which means the coef_ did not converge\n",
      "  warnings.warn(\n",
      "/Users/shm/Projects/DS_NLP_Assignment/biomed-sentiment/venv/lib/python3.8/site-packages/sklearn/linear_model/_sag.py:352: ConvergenceWarning: The max_iter was reached which means the coef_ did not converge\n",
      "  warnings.warn(\n",
      "/Users/shm/Projects/DS_NLP_Assignment/biomed-sentiment/venv/lib/python3.8/site-packages/sklearn/linear_model/_sag.py:352: ConvergenceWarning: The max_iter was reached which means the coef_ did not converge\n",
      "  warnings.warn(\n",
      "/Users/shm/Projects/DS_NLP_Assignment/biomed-sentiment/venv/lib/python3.8/site-packages/sklearn/linear_model/_sag.py:352: ConvergenceWarning: The max_iter was reached which means the coef_ did not converge\n",
      "  warnings.warn(\n",
      "/Users/shm/Projects/DS_NLP_Assignment/biomed-sentiment/venv/lib/python3.8/site-packages/sklearn/linear_model/_sag.py:352: ConvergenceWarning: The max_iter was reached which means the coef_ did not converge\n",
      "  warnings.warn(\n",
      "/Users/shm/Projects/DS_NLP_Assignment/biomed-sentiment/venv/lib/python3.8/site-packages/sklearn/linear_model/_sag.py:352: ConvergenceWarning: The max_iter was reached which means the coef_ did not converge\n",
      "  warnings.warn(\n",
      "/Users/shm/Projects/DS_NLP_Assignment/biomed-sentiment/venv/lib/python3.8/site-packages/sklearn/linear_model/_sag.py:352: ConvergenceWarning: The max_iter was reached which means the coef_ did not converge\n",
      "  warnings.warn(\n",
      "/Users/shm/Projects/DS_NLP_Assignment/biomed-sentiment/venv/lib/python3.8/site-packages/sklearn/linear_model/_sag.py:352: ConvergenceWarning: The max_iter was reached which means the coef_ did not converge\n",
      "  warnings.warn(\n",
      "/Users/shm/Projects/DS_NLP_Assignment/biomed-sentiment/venv/lib/python3.8/site-packages/sklearn/linear_model/_sag.py:352: ConvergenceWarning: The max_iter was reached which means the coef_ did not converge\n",
      "  warnings.warn(\n",
      "/Users/shm/Projects/DS_NLP_Assignment/biomed-sentiment/venv/lib/python3.8/site-packages/sklearn/linear_model/_sag.py:352: ConvergenceWarning: The max_iter was reached which means the coef_ did not converge\n",
      "  warnings.warn(\n",
      "/Users/shm/Projects/DS_NLP_Assignment/biomed-sentiment/venv/lib/python3.8/site-packages/sklearn/linear_model/_sag.py:352: ConvergenceWarning: The max_iter was reached which means the coef_ did not converge\n",
      "  warnings.warn(\n",
      "/Users/shm/Projects/DS_NLP_Assignment/biomed-sentiment/venv/lib/python3.8/site-packages/sklearn/linear_model/_sag.py:352: ConvergenceWarning: The max_iter was reached which means the coef_ did not converge\n",
      "  warnings.warn(\n",
      "/Users/shm/Projects/DS_NLP_Assignment/biomed-sentiment/venv/lib/python3.8/site-packages/sklearn/linear_model/_sag.py:352: ConvergenceWarning: The max_iter was reached which means the coef_ did not converge\n",
      "  warnings.warn(\n",
      "/Users/shm/Projects/DS_NLP_Assignment/biomed-sentiment/venv/lib/python3.8/site-packages/sklearn/linear_model/_sag.py:352: ConvergenceWarning: The max_iter was reached which means the coef_ did not converge\n",
      "  warnings.warn(\n",
      "/Users/shm/Projects/DS_NLP_Assignment/biomed-sentiment/venv/lib/python3.8/site-packages/sklearn/linear_model/_sag.py:352: ConvergenceWarning: The max_iter was reached which means the coef_ did not converge\n",
      "  warnings.warn(\n",
      "/Users/shm/Projects/DS_NLP_Assignment/biomed-sentiment/venv/lib/python3.8/site-packages/sklearn/linear_model/_sag.py:352: ConvergenceWarning: The max_iter was reached which means the coef_ did not converge\n",
      "  warnings.warn(\n",
      "/Users/shm/Projects/DS_NLP_Assignment/biomed-sentiment/venv/lib/python3.8/site-packages/sklearn/linear_model/_sag.py:352: ConvergenceWarning: The max_iter was reached which means the coef_ did not converge\n",
      "  warnings.warn(\n",
      "/Users/shm/Projects/DS_NLP_Assignment/biomed-sentiment/venv/lib/python3.8/site-packages/sklearn/linear_model/_sag.py:352: ConvergenceWarning: The max_iter was reached which means the coef_ did not converge\n",
      "  warnings.warn(\n",
      "/Users/shm/Projects/DS_NLP_Assignment/biomed-sentiment/venv/lib/python3.8/site-packages/sklearn/linear_model/_sag.py:352: ConvergenceWarning: The max_iter was reached which means the coef_ did not converge\n",
      "  warnings.warn(\n",
      "/Users/shm/Projects/DS_NLP_Assignment/biomed-sentiment/venv/lib/python3.8/site-packages/sklearn/linear_model/_sag.py:352: ConvergenceWarning: The max_iter was reached which means the coef_ did not converge\n",
      "  warnings.warn(\n"
     ]
    },
    {
     "name": "stderr",
     "output_type": "stream",
     "text": [
      "/Users/shm/Projects/DS_NLP_Assignment/biomed-sentiment/venv/lib/python3.8/site-packages/sklearn/linear_model/_sag.py:352: ConvergenceWarning: The max_iter was reached which means the coef_ did not converge\n",
      "  warnings.warn(\n",
      "/Users/shm/Projects/DS_NLP_Assignment/biomed-sentiment/venv/lib/python3.8/site-packages/sklearn/linear_model/_sag.py:352: ConvergenceWarning: The max_iter was reached which means the coef_ did not converge\n",
      "  warnings.warn(\n",
      "/Users/shm/Projects/DS_NLP_Assignment/biomed-sentiment/venv/lib/python3.8/site-packages/sklearn/linear_model/_sag.py:352: ConvergenceWarning: The max_iter was reached which means the coef_ did not converge\n",
      "  warnings.warn(\n",
      "/Users/shm/Projects/DS_NLP_Assignment/biomed-sentiment/venv/lib/python3.8/site-packages/sklearn/linear_model/_sag.py:352: ConvergenceWarning: The max_iter was reached which means the coef_ did not converge\n",
      "  warnings.warn(\n",
      "/Users/shm/Projects/DS_NLP_Assignment/biomed-sentiment/venv/lib/python3.8/site-packages/sklearn/linear_model/_sag.py:352: ConvergenceWarning: The max_iter was reached which means the coef_ did not converge\n",
      "  warnings.warn(\n",
      "/Users/shm/Projects/DS_NLP_Assignment/biomed-sentiment/venv/lib/python3.8/site-packages/sklearn/linear_model/_sag.py:352: ConvergenceWarning: The max_iter was reached which means the coef_ did not converge\n",
      "  warnings.warn(\n",
      "/Users/shm/Projects/DS_NLP_Assignment/biomed-sentiment/venv/lib/python3.8/site-packages/sklearn/linear_model/_sag.py:352: ConvergenceWarning: The max_iter was reached which means the coef_ did not converge\n",
      "  warnings.warn(\n",
      "/Users/shm/Projects/DS_NLP_Assignment/biomed-sentiment/venv/lib/python3.8/site-packages/sklearn/linear_model/_sag.py:352: ConvergenceWarning: The max_iter was reached which means the coef_ did not converge\n",
      "  warnings.warn(\n",
      "/Users/shm/Projects/DS_NLP_Assignment/biomed-sentiment/venv/lib/python3.8/site-packages/sklearn/linear_model/_sag.py:352: ConvergenceWarning: The max_iter was reached which means the coef_ did not converge\n",
      "  warnings.warn(\n",
      "/Users/shm/Projects/DS_NLP_Assignment/biomed-sentiment/venv/lib/python3.8/site-packages/sklearn/linear_model/_sag.py:352: ConvergenceWarning: The max_iter was reached which means the coef_ did not converge\n",
      "  warnings.warn(\n",
      "/Users/shm/Projects/DS_NLP_Assignment/biomed-sentiment/venv/lib/python3.8/site-packages/sklearn/linear_model/_sag.py:352: ConvergenceWarning: The max_iter was reached which means the coef_ did not converge\n",
      "  warnings.warn(\n",
      "/Users/shm/Projects/DS_NLP_Assignment/biomed-sentiment/venv/lib/python3.8/site-packages/sklearn/linear_model/_sag.py:352: ConvergenceWarning: The max_iter was reached which means the coef_ did not converge\n",
      "  warnings.warn(\n",
      "/Users/shm/Projects/DS_NLP_Assignment/biomed-sentiment/venv/lib/python3.8/site-packages/sklearn/linear_model/_sag.py:352: ConvergenceWarning: The max_iter was reached which means the coef_ did not converge\n",
      "  warnings.warn(\n",
      "/Users/shm/Projects/DS_NLP_Assignment/biomed-sentiment/venv/lib/python3.8/site-packages/sklearn/linear_model/_sag.py:352: ConvergenceWarning: The max_iter was reached which means the coef_ did not converge\n",
      "  warnings.warn(\n",
      "/Users/shm/Projects/DS_NLP_Assignment/biomed-sentiment/venv/lib/python3.8/site-packages/sklearn/linear_model/_sag.py:352: ConvergenceWarning: The max_iter was reached which means the coef_ did not converge\n",
      "  warnings.warn(\n",
      "/Users/shm/Projects/DS_NLP_Assignment/biomed-sentiment/venv/lib/python3.8/site-packages/sklearn/linear_model/_sag.py:352: ConvergenceWarning: The max_iter was reached which means the coef_ did not converge\n",
      "  warnings.warn(\n",
      "/Users/shm/Projects/DS_NLP_Assignment/biomed-sentiment/venv/lib/python3.8/site-packages/sklearn/linear_model/_sag.py:352: ConvergenceWarning: The max_iter was reached which means the coef_ did not converge\n",
      "  warnings.warn(\n",
      "/Users/shm/Projects/DS_NLP_Assignment/biomed-sentiment/venv/lib/python3.8/site-packages/sklearn/linear_model/_sag.py:352: ConvergenceWarning: The max_iter was reached which means the coef_ did not converge\n",
      "  warnings.warn(\n",
      "/Users/shm/Projects/DS_NLP_Assignment/biomed-sentiment/venv/lib/python3.8/site-packages/sklearn/linear_model/_logistic.py:814: ConvergenceWarning: lbfgs failed to converge (status=1):\n",
      "STOP: TOTAL NO. of ITERATIONS REACHED LIMIT.\n",
      "\n",
      "Increase the number of iterations (max_iter) or scale the data as shown in:\n",
      "    https://scikit-learn.org/stable/modules/preprocessing.html\n",
      "Please also refer to the documentation for alternative solver options:\n",
      "    https://scikit-learn.org/stable/modules/linear_model.html#logistic-regression\n",
      "  n_iter_i = _check_optimize_result(\n"
     ]
    },
    {
     "data": {
      "text/plain": [
       "RandomizedSearchCV(cv=3, estimator=LogisticRegression(random_state=42),\n",
       "                   n_iter=50,\n",
       "                   param_distributions={'C': [0.1, 0.3020408163265306,\n",
       "                                              0.5040816326530613,\n",
       "                                              0.7061224489795919,\n",
       "                                              0.9081632653061225,\n",
       "                                              1.1102040816326533,\n",
       "                                              1.3122448979591839,\n",
       "                                              1.5142857142857145,\n",
       "                                              1.716326530612245,\n",
       "                                              1.9183673469387756,\n",
       "                                              2.1204081632653065,\n",
       "                                              2.322448979591837,\n",
       "                                              2.5244897959183676,\n",
       "                                              2.726530612244...\n",
       "                                              4.140816326530612,\n",
       "                                              4.3428571428571425,\n",
       "                                              4.544897959183674,\n",
       "                                              4.746938775510204,\n",
       "                                              4.948979591836735,\n",
       "                                              5.151020408163265,\n",
       "                                              5.353061224489796,\n",
       "                                              5.555102040816326,\n",
       "                                              5.757142857142857,\n",
       "                                              5.959183673469387, ...],\n",
       "                                        'class_weight': ['balanced', None],\n",
       "                                        'multi_class': ['multinomial'],\n",
       "                                        'penalty': ['l2'],\n",
       "                                        'solver': ['newton-cg', 'sag', 'saga',\n",
       "                                                   'lbfgs']},\n",
       "                   random_state=42, scoring='accuracy', verbose=1)"
      ]
     },
     "execution_count": 72,
     "metadata": {},
     "output_type": "execute_result"
    }
   ],
   "source": [
    "from sklearn.model_selection import RandomizedSearchCV\n",
    "from sklearn.model_selection import GridSearchCV\n",
    "# First create base model to tune\n",
    "lrc = LogisticRegression(random_state=42)\n",
    "\n",
    "# Definition of the random search\n",
    "random_search = RandomizedSearchCV(estimator=lrc,\n",
    "                                   param_distributions=random_grid,\n",
    "                                   n_iter=50,\n",
    "                                   scoring='accuracy',\n",
    "                                   cv=3, \n",
    "                                   verbose=1, \n",
    "                                   random_state=42)\n",
    "\n",
    "# Fit the random search model\n",
    "random_search.fit(X_train_w2v, y_train)"
   ]
  },
  {
   "cell_type": "code",
   "execution_count": 73,
   "metadata": {},
   "outputs": [
    {
     "name": "stdout",
     "output_type": "stream",
     "text": [
      "The best hyperparameters from Random Search are:\n",
      "{'solver': 'lbfgs', 'penalty': 'l2', 'multi_class': 'multinomial', 'class_weight': None, 'C': 5.757142857142857}\n",
      "\n",
      "The mean accuracy of a model with these hyperparameters is:\n",
      "0.6505376344086021\n"
     ]
    }
   ],
   "source": [
    "print(\"The best hyperparameters from Random Search are:\")\n",
    "print(random_search.best_params_)\n",
    "print(\"\")\n",
    "print(\"The mean accuracy of a model with these hyperparameters is:\")\n",
    "print(random_search.best_score_)"
   ]
  },
  {
   "cell_type": "code",
   "execution_count": null,
   "metadata": {},
   "outputs": [],
   "source": []
  },
  {
   "cell_type": "code",
   "execution_count": 103,
   "metadata": {},
   "outputs": [
    {
     "name": "stdout",
     "output_type": "stream",
     "text": [
      "              precision    recall  f1-score   support\n",
      "\n",
      "           0       1.00      0.18      0.31        11\n",
      "           1       0.80      0.19      0.31        21\n",
      "           2       0.66      1.00      0.79        48\n",
      "\n",
      "    accuracy                           0.68        80\n",
      "   macro avg       0.82      0.46      0.47        80\n",
      "weighted avg       0.74      0.68      0.60        80\n",
      "\n",
      "Confusion Matrix:\n",
      " [[ 2  1  8]\n",
      " [ 0  4 17]\n",
      " [ 0  0 48]]\n"
     ]
    }
   ],
   "source": [
    "# nb_w2v = MultinomialNB()\n",
    "# nb_w2v.fit(X_train_w2v, y_train)  \n",
    "\n",
    "#Predict y value for test dataset\n",
    "y_predict = nb_tfidf.predict(X_val_tfidf)\n",
    "y_prob = nb_tfidf.predict_proba(X_val_tfidf)[:,1]\n",
    " \n",
    "\n",
    "print(classification_report(y_val,y_predict))\n",
    "print('Confusion Matrix:\\n',confusion_matrix(y_val, y_predict))"
   ]
  },
  {
   "cell_type": "code",
   "execution_count": 106,
   "metadata": {},
   "outputs": [
    {
     "data": {
      "text/plain": [
       "GridSearchCV(estimator=MultinomialNB(),\n",
       "             param_grid={'alpha': (1, 0.1, 0.01, 0.001, 0.0001, 1e-05)})"
      ]
     },
     "execution_count": 106,
     "metadata": {},
     "output_type": "execute_result"
    }
   ],
   "source": [
    "# Naive Bayes has only one parameter alpha\n",
    "parameters = {  \n",
    "'alpha': (1, 0.1, 0.01, 0.001, 0.0001, 0.00001)  \n",
    "}  \n",
    "grid_search= GridSearchCV(nb_tfidf, parameters)\n",
    "grid_search.fit(X_train_tfidf,y_train)\n"
   ]
  },
  {
   "cell_type": "code",
   "execution_count": 107,
   "metadata": {},
   "outputs": [
    {
     "name": "stdout",
     "output_type": "stream",
     "text": [
      "The best hyperparameters from Grid Search are:\n",
      "{'alpha': 0.0001}\n",
      "\n",
      "The mean accuracy of a model with these hyperparameters is:\n",
      "0.6726884779516359\n"
     ]
    }
   ],
   "source": [
    "print(\"The best hyperparameters from Grid Search are:\")\n",
    "print(grid_search.best_params_)\n",
    "print(\"\")\n",
    "print(\"The mean accuracy of a model with these hyperparameters is:\")\n",
    "print(grid_search.best_score_)"
   ]
  },
  {
   "cell_type": "markdown",
   "metadata": {},
   "source": [
    "Are we overfitting?"
   ]
  },
  {
   "cell_type": "code",
   "execution_count": 109,
   "metadata": {},
   "outputs": [
    {
     "data": {
      "text/plain": [
       "0.9946236559139785"
      ]
     },
     "execution_count": 109,
     "metadata": {},
     "output_type": "execute_result"
    }
   ],
   "source": [
    "y_pred_train = grid_search.best_estimator_.predict(X_train_tfidf)\n",
    "accuracy_score(y_train, y_pred_train)"
   ]
  },
  {
   "cell_type": "markdown",
   "metadata": {},
   "source": [
    "Not enough data, no point to try more complex models or try to find optimal hyper parameteres"
   ]
  },
  {
   "cell_type": "markdown",
   "metadata": {},
   "source": [
    "With pipelines we can stack different preprocessing, vectorization, and classification models:"
   ]
  },
  {
   "cell_type": "code",
   "execution_count": 112,
   "metadata": {},
   "outputs": [
    {
     "name": "stdout",
     "output_type": "stream",
     "text": [
      "{'fit_time': array([0.09710908, 0.07188916, 0.07589221, 0.08111   , 0.07233   ]), 'score_time': array([0.01862288, 0.01577306, 0.01340699, 0.0183773 , 0.01159501]), 'test_accuracy': array([0.59259259, 0.60377358, 0.60377358, 0.60377358, 0.60377358])}\n"
     ]
    }
   ],
   "source": [
    "from sklearn.pipeline import make_pipeline\n",
    "from sklearn.model_selection import cross_validate\n",
    "from sklearn.svm import SVC\n",
    "data_x = df[\"Sentence_swf\"].to_list()\n",
    "data_y = df[\"Polarity\"].to_list()\n",
    "clf = make_pipeline(MeanEmbeddingVectorizer(w2v_model), SVC(kernel='linear', probability=True))\n",
    "scores = cross_validate(clf, data_x, data_y, scoring=['accuracy'], cv=5, return_train_score=False)\n",
    "print(scores) "
   ]
  },
  {
   "cell_type": "markdown",
   "metadata": {},
   "source": [
    "One more thing before we look at data augmentation:\n",
    "How does an off the shelf sentiment analyzer do for our data?"
   ]
  },
  {
   "cell_type": "code",
   "execution_count": 94,
   "metadata": {},
   "outputs": [],
   "source": [
    "# Lets see how a off the shelf sentiment analyzer does\n",
    "from vaderSentiment.vaderSentiment import SentimentIntensityAnalyzer\n",
    "analyser = SentimentIntensityAnalyzer()\n",
    "def sentiment_scores(sentence):\n",
    "    snt = analyser.polarity_scores(sentence)\n",
    "    return snt.get('compound')"
   ]
  },
  {
   "cell_type": "code",
   "execution_count": 95,
   "metadata": {
    "scrolled": true
   },
   "outputs": [
    {
     "data": {
      "text/plain": [
       "0.2732"
      ]
     },
     "execution_count": 95,
     "metadata": {},
     "output_type": "execute_result"
    }
   ],
   "source": [
    "text = \"The bioequivalence study appears to have been well conducted.\"\n",
    "sentiment_scores(text)"
   ]
  },
  {
   "cell_type": "code",
   "execution_count": 96,
   "metadata": {},
   "outputs": [],
   "source": [
    "df[\"vader_snt\"] = df['Sentence'].apply(sentiment_scores)"
   ]
  },
  {
   "cell_type": "code",
   "execution_count": 97,
   "metadata": {},
   "outputs": [
    {
     "data": {
      "text/html": [
       "<div>\n",
       "<style scoped>\n",
       "    .dataframe tbody tr th:only-of-type {\n",
       "        vertical-align: middle;\n",
       "    }\n",
       "\n",
       "    .dataframe tbody tr th {\n",
       "        vertical-align: top;\n",
       "    }\n",
       "\n",
       "    .dataframe thead th {\n",
       "        text-align: right;\n",
       "    }\n",
       "</style>\n",
       "<table border=\"1\" class=\"dataframe\">\n",
       "  <thead>\n",
       "    <tr style=\"text-align: right;\">\n",
       "      <th></th>\n",
       "      <th>ID</th>\n",
       "      <th>Sentence</th>\n",
       "      <th>Positive</th>\n",
       "      <th>Negative</th>\n",
       "      <th>Neutral</th>\n",
       "      <th>Polarity</th>\n",
       "      <th>word_count</th>\n",
       "      <th>Sentence_swf</th>\n",
       "      <th>Sentence_swf_lemma</th>\n",
       "      <th>vader_snt</th>\n",
       "    </tr>\n",
       "  </thead>\n",
       "  <tbody>\n",
       "    <tr>\n",
       "      <th>0</th>\n",
       "      <td>1</td>\n",
       "      <td>The results in 2nd line treatment show an ORR ...</td>\n",
       "      <td>1</td>\n",
       "      <td>0</td>\n",
       "      <td>0</td>\n",
       "      <td>2</td>\n",
       "      <td>23</td>\n",
       "      <td>results 2nd line treatment show orr 33 patient...</td>\n",
       "      <td>result 2nd line treatment show orr 33 % patien...</td>\n",
       "      <td>0.0000</td>\n",
       "    </tr>\n",
       "    <tr>\n",
       "      <th>1</th>\n",
       "      <td>2</td>\n",
       "      <td>The long duration of response and high durable...</td>\n",
       "      <td>1</td>\n",
       "      <td>0</td>\n",
       "      <td>0</td>\n",
       "      <td>2</td>\n",
       "      <td>24</td>\n",
       "      <td>long duration response high durable response r...</td>\n",
       "      <td>long duration response high durable response r...</td>\n",
       "      <td>0.0000</td>\n",
       "    </tr>\n",
       "    <tr>\n",
       "      <th>2</th>\n",
       "      <td>3</td>\n",
       "      <td>The median OS time in the updated results exce...</td>\n",
       "      <td>0</td>\n",
       "      <td>0</td>\n",
       "      <td>1</td>\n",
       "      <td>1</td>\n",
       "      <td>11</td>\n",
       "      <td>median os time updated results exceeded 1 year</td>\n",
       "      <td>median o time updated result exceed 1 year</td>\n",
       "      <td>0.0000</td>\n",
       "    </tr>\n",
       "    <tr>\n",
       "      <th>3</th>\n",
       "      <td>4</td>\n",
       "      <td>Therefore, the clinical benefit in 2nd line tr...</td>\n",
       "      <td>1</td>\n",
       "      <td>0</td>\n",
       "      <td>0</td>\n",
       "      <td>2</td>\n",
       "      <td>23</td>\n",
       "      <td>therefore clinical benefit 2nd line treatment ...</td>\n",
       "      <td>therefore , clinical benefit 2nd line treatmen...</td>\n",
       "      <td>0.7269</td>\n",
       "    </tr>\n",
       "    <tr>\n",
       "      <th>4</th>\n",
       "      <td>5</td>\n",
       "      <td>The data provided in 1st line, although prelim...</td>\n",
       "      <td>1</td>\n",
       "      <td>0</td>\n",
       "      <td>0</td>\n",
       "      <td>2</td>\n",
       "      <td>41</td>\n",
       "      <td>data provided 1st line although preliminary sh...</td>\n",
       "      <td>data provide 1st line , although preliminary ,...</td>\n",
       "      <td>0.0000</td>\n",
       "    </tr>\n",
       "    <tr>\n",
       "      <th>...</th>\n",
       "      <td>...</td>\n",
       "      <td>...</td>\n",
       "      <td>...</td>\n",
       "      <td>...</td>\n",
       "      <td>...</td>\n",
       "      <td>...</td>\n",
       "      <td>...</td>\n",
       "      <td>...</td>\n",
       "      <td>...</td>\n",
       "      <td>...</td>\n",
       "    </tr>\n",
       "    <tr>\n",
       "      <th>261</th>\n",
       "      <td>262</td>\n",
       "      <td>Compared to SOF/VEL and placebo, there were si...</td>\n",
       "      <td>1</td>\n",
       "      <td>0</td>\n",
       "      <td>0</td>\n",
       "      <td>2</td>\n",
       "      <td>27</td>\n",
       "      <td>compared sof vel placebo similar rates aes ove...</td>\n",
       "      <td>compare sof/vel placebo , similar rate aes ove...</td>\n",
       "      <td>0.2732</td>\n",
       "    </tr>\n",
       "    <tr>\n",
       "      <th>262</th>\n",
       "      <td>263</td>\n",
       "      <td>Other potentially related AE’s including decre...</td>\n",
       "      <td>0</td>\n",
       "      <td>0</td>\n",
       "      <td>1</td>\n",
       "      <td>1</td>\n",
       "      <td>12</td>\n",
       "      <td>potentially related ae including decreased app...</td>\n",
       "      <td>potentially related ae ’ s include decrease ap...</td>\n",
       "      <td>-0.4019</td>\n",
       "    </tr>\n",
       "    <tr>\n",
       "      <th>263</th>\n",
       "      <td>264</td>\n",
       "      <td>No treatment-related SAE was reported and only...</td>\n",
       "      <td>1</td>\n",
       "      <td>0</td>\n",
       "      <td>0</td>\n",
       "      <td>2</td>\n",
       "      <td>26</td>\n",
       "      <td>treatment related sae reported one subject 0 1...</td>\n",
       "      <td>treatment-related sae report one subject ( 0.1...</td>\n",
       "      <td>-0.2960</td>\n",
       "    </tr>\n",
       "    <tr>\n",
       "      <th>264</th>\n",
       "      <td>265</td>\n",
       "      <td>There was no general indication of VOX-associa...</td>\n",
       "      <td>0</td>\n",
       "      <td>1</td>\n",
       "      <td>0</td>\n",
       "      <td>0</td>\n",
       "      <td>36</td>\n",
       "      <td>general indication vox associated transaminiti...</td>\n",
       "      <td>general indication vox-associated transaminiti...</td>\n",
       "      <td>-0.7178</td>\n",
       "    </tr>\n",
       "    <tr>\n",
       "      <th>265</th>\n",
       "      <td>266</td>\n",
       "      <td>The safety profile of SOF/VEL/VOX for 8 or 12 ...</td>\n",
       "      <td>1</td>\n",
       "      <td>0</td>\n",
       "      <td>0</td>\n",
       "      <td>2</td>\n",
       "      <td>22</td>\n",
       "      <td>safety profile sof vel vox 8 12 weeks patients...</td>\n",
       "      <td>safety profile sof/vel/vox 8 12 week patient c...</td>\n",
       "      <td>0.4215</td>\n",
       "    </tr>\n",
       "  </tbody>\n",
       "</table>\n",
       "<p>266 rows × 10 columns</p>\n",
       "</div>"
      ],
      "text/plain": [
       "      ID                                           Sentence  Positive  \\\n",
       "0      1  The results in 2nd line treatment show an ORR ...         1   \n",
       "1      2  The long duration of response and high durable...         1   \n",
       "2      3  The median OS time in the updated results exce...         0   \n",
       "3      4  Therefore, the clinical benefit in 2nd line tr...         1   \n",
       "4      5  The data provided in 1st line, although prelim...         1   \n",
       "..   ...                                                ...       ...   \n",
       "261  262  Compared to SOF/VEL and placebo, there were si...         1   \n",
       "262  263  Other potentially related AE’s including decre...         0   \n",
       "263  264  No treatment-related SAE was reported and only...         1   \n",
       "264  265  There was no general indication of VOX-associa...         0   \n",
       "265  266  The safety profile of SOF/VEL/VOX for 8 or 12 ...         1   \n",
       "\n",
       "     Negative  Neutral  Polarity  word_count  \\\n",
       "0           0        0         2          23   \n",
       "1           0        0         2          24   \n",
       "2           0        1         1          11   \n",
       "3           0        0         2          23   \n",
       "4           0        0         2          41   \n",
       "..        ...      ...       ...         ...   \n",
       "261         0        0         2          27   \n",
       "262         0        1         1          12   \n",
       "263         0        0         2          26   \n",
       "264         1        0         0          36   \n",
       "265         0        0         2          22   \n",
       "\n",
       "                                          Sentence_swf  \\\n",
       "0    results 2nd line treatment show orr 33 patient...   \n",
       "1    long duration response high durable response r...   \n",
       "2       median os time updated results exceeded 1 year   \n",
       "3    therefore clinical benefit 2nd line treatment ...   \n",
       "4    data provided 1st line although preliminary sh...   \n",
       "..                                                 ...   \n",
       "261  compared sof vel placebo similar rates aes ove...   \n",
       "262  potentially related ae including decreased app...   \n",
       "263  treatment related sae reported one subject 0 1...   \n",
       "264  general indication vox associated transaminiti...   \n",
       "265  safety profile sof vel vox 8 12 weeks patients...   \n",
       "\n",
       "                                    Sentence_swf_lemma  vader_snt  \n",
       "0    result 2nd line treatment show orr 33 % patien...     0.0000  \n",
       "1    long duration response high durable response r...     0.0000  \n",
       "2           median o time updated result exceed 1 year     0.0000  \n",
       "3    therefore , clinical benefit 2nd line treatmen...     0.7269  \n",
       "4    data provide 1st line , although preliminary ,...     0.0000  \n",
       "..                                                 ...        ...  \n",
       "261  compare sof/vel placebo , similar rate aes ove...     0.2732  \n",
       "262  potentially related ae ’ s include decrease ap...    -0.4019  \n",
       "263  treatment-related sae report one subject ( 0.1...    -0.2960  \n",
       "264  general indication vox-associated transaminiti...    -0.7178  \n",
       "265  safety profile sof/vel/vox 8 12 week patient c...     0.4215  \n",
       "\n",
       "[266 rows x 10 columns]"
      ]
     },
     "execution_count": 97,
     "metadata": {},
     "output_type": "execute_result"
    }
   ],
   "source": [
    "df"
   ]
  },
  {
   "cell_type": "markdown",
   "metadata": {},
   "source": [
    "It does not seem to correlate well with our scores"
   ]
  }
 ],
 "metadata": {
  "kernelspec": {
   "display_name": "Python 3",
   "language": "python",
   "name": "python3"
  },
  "language_info": {
   "codemirror_mode": {
    "name": "ipython",
    "version": 3
   },
   "file_extension": ".py",
   "mimetype": "text/x-python",
   "name": "python",
   "nbconvert_exporter": "python",
   "pygments_lexer": "ipython3",
   "version": "3.8.5"
  }
 },
 "nbformat": 4,
 "nbformat_minor": 1
}