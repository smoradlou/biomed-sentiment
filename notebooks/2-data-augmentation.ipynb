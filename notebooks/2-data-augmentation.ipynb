{
 "cells": [
  {
   "cell_type": "markdown",
   "id": "6dfb8bfd",
   "metadata": {},
   "source": [
    "## Data Augmentation\n",
    "I have tried augmentation with paraphrasing promt using GPT-J with and EDA (Easy Data Augmentation Techniques for Boosting Performance on Text Classification Tasks)separately --code in src/data/--  here we will use the NLPAug library to introduce the topic."
   ]
  },
  {
   "cell_type": "code",
   "execution_count": 1,
   "id": "4d86cd99",
   "metadata": {},
   "outputs": [],
   "source": [
    "import nlpaug.augmenter.char as nac\n",
    "import nlpaug.augmenter.word as naw\n",
    "import nlpaug.augmenter.sentence as nas\n",
    "import nlpaug.flow as nafc\n",
    "\n",
    "from nlpaug.util import Action"
   ]
  },
  {
   "cell_type": "code",
   "execution_count": 2,
   "id": "a4bd3253",
   "metadata": {},
   "outputs": [
    {
     "name": "stdout",
     "output_type": "stream",
     "text": [
      "The quick brown fox jumps over the lazy dog .\n"
     ]
    }
   ],
   "source": [
    "text = 'The quick brown fox jumps over the lazy dog .'\n",
    "print(text)"
   ]
  },
  {
   "cell_type": "markdown",
   "id": "d5e51505",
   "metadata": {},
   "source": [
    "### Contextual Word Embeddings Augmenter\n",
    "Insert word by contextual word embeddings (BERT, DistilBERT, RoBERTA or XLNet)"
   ]
  },
  {
   "cell_type": "code",
   "execution_count": 4,
   "id": "cc2abf84",
   "metadata": {},
   "outputs": [
    {
     "name": "stdout",
     "output_type": "stream",
     "text": [
      "Original:\n",
      "The quick brown fox jumps over the lazy dog .\n",
      "Augmented Text:\n",
      "now the quick brown tit fox slowly jumps over the very lazy dog.\n"
     ]
    }
   ],
   "source": [
    "aug = naw.ContextualWordEmbsAug(\n",
    "    model_path='allenai/scibert_scivocab_uncased', action=\"insert\")\n",
    "augmented_text = aug.augment(text)\n",
    "print(\"Original:\")\n",
    "print(text)\n",
    "print(\"Augmented Text:\")\n",
    "print(augmented_text)"
   ]
  },
  {
   "cell_type": "markdown",
   "id": "7c602395",
   "metadata": {},
   "source": [
    "Now that we have got ourselves a specialist model lets try a sentence from the biomedical domain:"
   ]
  },
  {
   "cell_type": "code",
   "execution_count": 5,
   "id": "6dfd578c",
   "metadata": {},
   "outputs": [
    {
     "name": "stdout",
     "output_type": "stream",
     "text": [
      "Original:\n",
      "The frequencies and nature of the adverse events were in line with those reported for the innovator MabThera/Rituxan in the RA and NLH study populations.\n",
      "Augmented Text:\n",
      "the distribution frequencies and very nature therefore of all the adverse drug events were quite in line entirely with those reported previously for the canadian innovator trial mabthera / rituxan in the ra and nlh study populations.\n"
     ]
    }
   ],
   "source": [
    "text = \"The frequencies and nature of the adverse events were in line with those reported for the innovator MabThera/Rituxan in the RA and NLH study populations.\"\n",
    "augmented_text = aug.augment(text)\n",
    "print(\"Original:\")\n",
    "print(text)\n",
    "print(\"Augmented Text:\")\n",
    "print(augmented_text)"
   ]
  },
  {
   "cell_type": "markdown",
   "id": "2c3f40e6",
   "metadata": {},
   "source": [
    "### Back Translation Augmenter\n",
    "Translates the sentence back and forth between a pair of languages to yield a slightly different sentence"
   ]
  },
  {
   "cell_type": "code",
   "execution_count": 8,
   "id": "253a699b",
   "metadata": {},
   "outputs": [
    {
     "name": "stdout",
     "output_type": "stream",
     "text": [
      "Original:\n",
      "In the pivotal RA trial, efficacy results in terms of DAS28 and ACR were shown to be comparable between CT-P10 and MabThera.\n",
      "Augmented Text:\n",
      "In the pivotal RA study, efficacy results for DAS28 and ACR were comparable between CT-P10 and MabThera.\n"
     ]
    }
   ],
   "source": [
    "import nlpaug.augmenter.word as naw\n",
    "text = \"In the pivotal RA trial, efficacy results in terms of DAS28 and ACR were shown to be comparable between CT-P10 and MabThera.\"\n",
    "back_translation_aug = naw.BackTranslationAug(\n",
    "    from_model_name='facebook/wmt19-en-de', \n",
    "    to_model_name='facebook/wmt19-de-en'\n",
    ")\n",
    "print(\"Original:\")\n",
    "print(text)\n",
    "print(\"Augmented Text:\")\n",
    "print(back_translation_aug.augment(text))"
   ]
  },
  {
   "cell_type": "markdown",
   "id": "27ba4dfc",
   "metadata": {},
   "source": [
    "### Abstractive summarization\n",
    "\n",
    "This might be fitting to our use case as well, as the sentiment, or the judgement on how reliable the study is should not depend on report numbers and such, or at least we do not want to learn that, I assume"
   ]
  },
  {
   "cell_type": "code",
   "execution_count": 11,
   "id": "4ae8777d",
   "metadata": {},
   "outputs": [
    {
     "name": "stdout",
     "output_type": "stream",
     "text": [
      "Original:\n",
      "to the EMA Guideline on the Investigation of Bioequivalence (CPMP/EWP/QWP/1401/98 Rev. 1/ Corr **), Ivabradine 5 mg film-coated tablets satisfy the conditions for waiver of bioequivalence studies conducted on the applied product 7.5 mg strength.\n",
      "Augmented Text:\n",
      "5 mg film-coated tablets satisfy the conditions for waiver of bioequivalence studies conducted on the applied product 7.5 mg strength .\n"
     ]
    }
   ],
   "source": [
    "text = \"to the EMA Guideline on the Investigation of Bioequivalence (CPMP/EWP/QWP/1401/98 Rev. 1/ Corr **), Ivabradine 5 mg film-coated tablets satisfy the conditions for waiver of bioequivalence studies conducted on the applied product 7.5 mg strength.\"\n",
    "\n",
    "aug = nas.AbstSummAug(model_path='t5-base')\n",
    "augmented_text = aug.augment(text)\n",
    "print(\"Original:\")\n",
    "print(text)\n",
    "print(\"Augmented Text:\")\n",
    "print(augmented_text)"
   ]
  },
  {
   "cell_type": "code",
   "execution_count": 15,
   "id": "5c990e40",
   "metadata": {},
   "outputs": [],
   "source": [
    "my_list = ['The planned extension studies CT-P10 3.2 (RA) CT-P10 3.3 (AFL) and CT-P10 3.4 (LTBFL) listed in the RMP will provide additional long term safety data.', 'For these parameters, CHF 5993 pMDI and Foster pMDI + Tiotropium generally showed a similar effect.']"
   ]
  },
  {
   "cell_type": "code",
   "execution_count": 16,
   "id": "1acc6c84",
   "metadata": {},
   "outputs": [
    {
     "name": "stderr",
     "output_type": "stream",
     "text": [
      "Your max_length is set to 50, but you input_length is only 34. You might consider decreasing max_length manually, e.g. summarizer('...', max_length=50)\n"
     ]
    },
    {
     "data": {
      "text/plain": [
       "['the planned extension studies will provide additional long term safety data . the studies CT-P10 3.2 (RA) CT- P10 3.3 (AFL) and CT-p10 3.4 (LTBFL) listed in the',\n",
       " 'CHF 5993 pMDI and Foster + Tiotropium generally show a similar effect .']"
      ]
     },
     "execution_count": 16,
     "metadata": {},
     "output_type": "execute_result"
    }
   ],
   "source": [
    "aug.augment(my_list)"
   ]
  }
 ],
 "metadata": {
  "kernelspec": {
   "display_name": "Python 3 (ipykernel)",
   "language": "python",
   "name": "python3"
  },
  "language_info": {
   "codemirror_mode": {
    "name": "ipython",
    "version": 3
   },
   "file_extension": ".py",
   "mimetype": "text/x-python",
   "name": "python",
   "nbconvert_exporter": "python",
   "pygments_lexer": "ipython3",
   "version": "3.8.5"
  }
 },
 "nbformat": 4,
 "nbformat_minor": 5
}
